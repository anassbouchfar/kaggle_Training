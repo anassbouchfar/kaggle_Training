{
 "cells": [
  {
   "cell_type": "markdown",
   "id": "66e63488",
   "metadata": {
    "papermill": {
     "duration": 0.008983,
     "end_time": "2022-07-01T21:14:18.962228",
     "exception": false,
     "start_time": "2022-07-01T21:14:18.953245",
     "status": "completed"
    },
    "tags": []
   },
   "source": [
    "**This notebook is an exercise in the [Pandas](https://www.kaggle.com/learn/pandas) course.  You can reference the tutorial at [this link](https://www.kaggle.com/residentmario/grouping-and-sorting).**\n",
    "\n",
    "---\n"
   ]
  },
  {
   "cell_type": "markdown",
   "id": "234c51c6",
   "metadata": {
    "papermill": {
     "duration": 0.007566,
     "end_time": "2022-07-01T21:14:18.978075",
     "exception": false,
     "start_time": "2022-07-01T21:14:18.970509",
     "status": "completed"
    },
    "tags": []
   },
   "source": [
    "# Introduction\n",
    "\n",
    "In these exercises we'll apply groupwise analysis to our dataset.\n",
    "\n",
    "Run the code cell below to load the data before running the exercises."
   ]
  },
  {
   "cell_type": "code",
   "execution_count": 1,
   "id": "f5ca1a5f",
   "metadata": {
    "execution": {
     "iopub.execute_input": "2022-07-01T21:14:18.995402Z",
     "iopub.status.busy": "2022-07-01T21:14:18.994695Z",
     "iopub.status.idle": "2022-07-01T21:14:21.669246Z",
     "shell.execute_reply": "2022-07-01T21:14:21.668201Z"
    },
    "papermill": {
     "duration": 2.686238,
     "end_time": "2022-07-01T21:14:21.671855",
     "exception": false,
     "start_time": "2022-07-01T21:14:18.985617",
     "status": "completed"
    },
    "tags": []
   },
   "outputs": [
    {
     "name": "stdout",
     "output_type": "stream",
     "text": [
      "Setup complete.\n"
     ]
    }
   ],
   "source": [
    "import pandas as pd\n",
    "\n",
    "reviews = pd.read_csv(\"../input/wine-reviews/winemag-data-130k-v2.csv\", index_col=0)\n",
    "#pd.set_option(\"display.max_rows\", 5)\n",
    "\n",
    "from learntools.core import binder; binder.bind(globals())\n",
    "from learntools.pandas.grouping_and_sorting import *\n",
    "print(\"Setup complete.\")"
   ]
  },
  {
   "cell_type": "markdown",
   "id": "170e0e4a",
   "metadata": {
    "papermill": {
     "duration": 0.007681,
     "end_time": "2022-07-01T21:14:21.687323",
     "exception": false,
     "start_time": "2022-07-01T21:14:21.679642",
     "status": "completed"
    },
    "tags": []
   },
   "source": [
    "# Exercises"
   ]
  },
  {
   "cell_type": "markdown",
   "id": "7b86a79b",
   "metadata": {
    "papermill": {
     "duration": 0.007296,
     "end_time": "2022-07-01T21:14:21.702293",
     "exception": false,
     "start_time": "2022-07-01T21:14:21.694997",
     "status": "completed"
    },
    "tags": []
   },
   "source": [
    "## 1.\n",
    "Who are the most common wine reviewers in the dataset? Create a `Series` whose index is the `taster_twitter_handle` category from the dataset, and whose values count how many reviews each person wrote."
   ]
  },
  {
   "cell_type": "code",
   "execution_count": 2,
   "id": "254ff077",
   "metadata": {
    "execution": {
     "iopub.execute_input": "2022-07-01T21:14:21.719502Z",
     "iopub.status.busy": "2022-07-01T21:14:21.718907Z",
     "iopub.status.idle": "2022-07-01T21:14:21.749523Z",
     "shell.execute_reply": "2022-07-01T21:14:21.748216Z"
    },
    "papermill": {
     "duration": 0.042508,
     "end_time": "2022-07-01T21:14:21.752399",
     "exception": false,
     "start_time": "2022-07-01T21:14:21.709891",
     "status": "completed"
    },
    "tags": []
   },
   "outputs": [
    {
     "data": {
      "text/html": [
       "<div>\n",
       "<style scoped>\n",
       "    .dataframe tbody tr th:only-of-type {\n",
       "        vertical-align: middle;\n",
       "    }\n",
       "\n",
       "    .dataframe tbody tr th {\n",
       "        vertical-align: top;\n",
       "    }\n",
       "\n",
       "    .dataframe thead th {\n",
       "        text-align: right;\n",
       "    }\n",
       "</style>\n",
       "<table border=\"1\" class=\"dataframe\">\n",
       "  <thead>\n",
       "    <tr style=\"text-align: right;\">\n",
       "      <th></th>\n",
       "      <th>country</th>\n",
       "      <th>description</th>\n",
       "      <th>designation</th>\n",
       "      <th>points</th>\n",
       "      <th>price</th>\n",
       "      <th>province</th>\n",
       "      <th>region_1</th>\n",
       "      <th>region_2</th>\n",
       "      <th>taster_name</th>\n",
       "      <th>taster_twitter_handle</th>\n",
       "      <th>title</th>\n",
       "      <th>variety</th>\n",
       "      <th>winery</th>\n",
       "    </tr>\n",
       "  </thead>\n",
       "  <tbody>\n",
       "    <tr>\n",
       "      <th>0</th>\n",
       "      <td>Italy</td>\n",
       "      <td>Aromas include tropical fruit, broom, brimston...</td>\n",
       "      <td>Vulkà Bianco</td>\n",
       "      <td>87</td>\n",
       "      <td>NaN</td>\n",
       "      <td>Sicily &amp; Sardinia</td>\n",
       "      <td>Etna</td>\n",
       "      <td>NaN</td>\n",
       "      <td>Kerin O’Keefe</td>\n",
       "      <td>@kerinokeefe</td>\n",
       "      <td>Nicosia 2013 Vulkà Bianco  (Etna)</td>\n",
       "      <td>White Blend</td>\n",
       "      <td>Nicosia</td>\n",
       "    </tr>\n",
       "    <tr>\n",
       "      <th>1</th>\n",
       "      <td>Portugal</td>\n",
       "      <td>This is ripe and fruity, a wine that is smooth...</td>\n",
       "      <td>Avidagos</td>\n",
       "      <td>87</td>\n",
       "      <td>15.0</td>\n",
       "      <td>Douro</td>\n",
       "      <td>NaN</td>\n",
       "      <td>NaN</td>\n",
       "      <td>Roger Voss</td>\n",
       "      <td>@vossroger</td>\n",
       "      <td>Quinta dos Avidagos 2011 Avidagos Red (Douro)</td>\n",
       "      <td>Portuguese Red</td>\n",
       "      <td>Quinta dos Avidagos</td>\n",
       "    </tr>\n",
       "    <tr>\n",
       "      <th>2</th>\n",
       "      <td>US</td>\n",
       "      <td>Tart and snappy, the flavors of lime flesh and...</td>\n",
       "      <td>NaN</td>\n",
       "      <td>87</td>\n",
       "      <td>14.0</td>\n",
       "      <td>Oregon</td>\n",
       "      <td>Willamette Valley</td>\n",
       "      <td>Willamette Valley</td>\n",
       "      <td>Paul Gregutt</td>\n",
       "      <td>@paulgwine</td>\n",
       "      <td>Rainstorm 2013 Pinot Gris (Willamette Valley)</td>\n",
       "      <td>Pinot Gris</td>\n",
       "      <td>Rainstorm</td>\n",
       "    </tr>\n",
       "    <tr>\n",
       "      <th>3</th>\n",
       "      <td>US</td>\n",
       "      <td>Pineapple rind, lemon pith and orange blossom ...</td>\n",
       "      <td>Reserve Late Harvest</td>\n",
       "      <td>87</td>\n",
       "      <td>13.0</td>\n",
       "      <td>Michigan</td>\n",
       "      <td>Lake Michigan Shore</td>\n",
       "      <td>NaN</td>\n",
       "      <td>Alexander Peartree</td>\n",
       "      <td>NaN</td>\n",
       "      <td>St. Julian 2013 Reserve Late Harvest Riesling ...</td>\n",
       "      <td>Riesling</td>\n",
       "      <td>St. Julian</td>\n",
       "    </tr>\n",
       "    <tr>\n",
       "      <th>4</th>\n",
       "      <td>US</td>\n",
       "      <td>Much like the regular bottling from 2012, this...</td>\n",
       "      <td>Vintner's Reserve Wild Child Block</td>\n",
       "      <td>87</td>\n",
       "      <td>65.0</td>\n",
       "      <td>Oregon</td>\n",
       "      <td>Willamette Valley</td>\n",
       "      <td>Willamette Valley</td>\n",
       "      <td>Paul Gregutt</td>\n",
       "      <td>@paulgwine</td>\n",
       "      <td>Sweet Cheeks 2012 Vintner's Reserve Wild Child...</td>\n",
       "      <td>Pinot Noir</td>\n",
       "      <td>Sweet Cheeks</td>\n",
       "    </tr>\n",
       "    <tr>\n",
       "      <th>...</th>\n",
       "      <td>...</td>\n",
       "      <td>...</td>\n",
       "      <td>...</td>\n",
       "      <td>...</td>\n",
       "      <td>...</td>\n",
       "      <td>...</td>\n",
       "      <td>...</td>\n",
       "      <td>...</td>\n",
       "      <td>...</td>\n",
       "      <td>...</td>\n",
       "      <td>...</td>\n",
       "      <td>...</td>\n",
       "      <td>...</td>\n",
       "    </tr>\n",
       "    <tr>\n",
       "      <th>129966</th>\n",
       "      <td>Germany</td>\n",
       "      <td>Notes of honeysuckle and cantaloupe sweeten th...</td>\n",
       "      <td>Brauneberger Juffer-Sonnenuhr Spätlese</td>\n",
       "      <td>90</td>\n",
       "      <td>28.0</td>\n",
       "      <td>Mosel</td>\n",
       "      <td>NaN</td>\n",
       "      <td>NaN</td>\n",
       "      <td>Anna Lee C. Iijima</td>\n",
       "      <td>NaN</td>\n",
       "      <td>Dr. H. Thanisch (Erben Müller-Burggraef) 2013 ...</td>\n",
       "      <td>Riesling</td>\n",
       "      <td>Dr. H. Thanisch (Erben Müller-Burggraef)</td>\n",
       "    </tr>\n",
       "    <tr>\n",
       "      <th>129967</th>\n",
       "      <td>US</td>\n",
       "      <td>Citation is given as much as a decade of bottl...</td>\n",
       "      <td>NaN</td>\n",
       "      <td>90</td>\n",
       "      <td>75.0</td>\n",
       "      <td>Oregon</td>\n",
       "      <td>Oregon</td>\n",
       "      <td>Oregon Other</td>\n",
       "      <td>Paul Gregutt</td>\n",
       "      <td>@paulgwine</td>\n",
       "      <td>Citation 2004 Pinot Noir (Oregon)</td>\n",
       "      <td>Pinot Noir</td>\n",
       "      <td>Citation</td>\n",
       "    </tr>\n",
       "    <tr>\n",
       "      <th>129968</th>\n",
       "      <td>France</td>\n",
       "      <td>Well-drained gravel soil gives this wine its c...</td>\n",
       "      <td>Kritt</td>\n",
       "      <td>90</td>\n",
       "      <td>30.0</td>\n",
       "      <td>Alsace</td>\n",
       "      <td>Alsace</td>\n",
       "      <td>NaN</td>\n",
       "      <td>Roger Voss</td>\n",
       "      <td>@vossroger</td>\n",
       "      <td>Domaine Gresser 2013 Kritt Gewurztraminer (Als...</td>\n",
       "      <td>Gewürztraminer</td>\n",
       "      <td>Domaine Gresser</td>\n",
       "    </tr>\n",
       "    <tr>\n",
       "      <th>129969</th>\n",
       "      <td>France</td>\n",
       "      <td>A dry style of Pinot Gris, this is crisp with ...</td>\n",
       "      <td>NaN</td>\n",
       "      <td>90</td>\n",
       "      <td>32.0</td>\n",
       "      <td>Alsace</td>\n",
       "      <td>Alsace</td>\n",
       "      <td>NaN</td>\n",
       "      <td>Roger Voss</td>\n",
       "      <td>@vossroger</td>\n",
       "      <td>Domaine Marcel Deiss 2012 Pinot Gris (Alsace)</td>\n",
       "      <td>Pinot Gris</td>\n",
       "      <td>Domaine Marcel Deiss</td>\n",
       "    </tr>\n",
       "    <tr>\n",
       "      <th>129970</th>\n",
       "      <td>France</td>\n",
       "      <td>Big, rich and off-dry, this is powered by inte...</td>\n",
       "      <td>Lieu-dit Harth Cuvée Caroline</td>\n",
       "      <td>90</td>\n",
       "      <td>21.0</td>\n",
       "      <td>Alsace</td>\n",
       "      <td>Alsace</td>\n",
       "      <td>NaN</td>\n",
       "      <td>Roger Voss</td>\n",
       "      <td>@vossroger</td>\n",
       "      <td>Domaine Schoffit 2012 Lieu-dit Harth Cuvée Car...</td>\n",
       "      <td>Gewürztraminer</td>\n",
       "      <td>Domaine Schoffit</td>\n",
       "    </tr>\n",
       "  </tbody>\n",
       "</table>\n",
       "<p>129971 rows × 13 columns</p>\n",
       "</div>"
      ],
      "text/plain": [
       "         country                                        description  \\\n",
       "0          Italy  Aromas include tropical fruit, broom, brimston...   \n",
       "1       Portugal  This is ripe and fruity, a wine that is smooth...   \n",
       "2             US  Tart and snappy, the flavors of lime flesh and...   \n",
       "3             US  Pineapple rind, lemon pith and orange blossom ...   \n",
       "4             US  Much like the regular bottling from 2012, this...   \n",
       "...          ...                                                ...   \n",
       "129966   Germany  Notes of honeysuckle and cantaloupe sweeten th...   \n",
       "129967        US  Citation is given as much as a decade of bottl...   \n",
       "129968    France  Well-drained gravel soil gives this wine its c...   \n",
       "129969    France  A dry style of Pinot Gris, this is crisp with ...   \n",
       "129970    France  Big, rich and off-dry, this is powered by inte...   \n",
       "\n",
       "                                   designation  points  price  \\\n",
       "0                                 Vulkà Bianco      87    NaN   \n",
       "1                                     Avidagos      87   15.0   \n",
       "2                                          NaN      87   14.0   \n",
       "3                         Reserve Late Harvest      87   13.0   \n",
       "4           Vintner's Reserve Wild Child Block      87   65.0   \n",
       "...                                        ...     ...    ...   \n",
       "129966  Brauneberger Juffer-Sonnenuhr Spätlese      90   28.0   \n",
       "129967                                     NaN      90   75.0   \n",
       "129968                                   Kritt      90   30.0   \n",
       "129969                                     NaN      90   32.0   \n",
       "129970           Lieu-dit Harth Cuvée Caroline      90   21.0   \n",
       "\n",
       "                 province             region_1           region_2  \\\n",
       "0       Sicily & Sardinia                 Etna                NaN   \n",
       "1                   Douro                  NaN                NaN   \n",
       "2                  Oregon    Willamette Valley  Willamette Valley   \n",
       "3                Michigan  Lake Michigan Shore                NaN   \n",
       "4                  Oregon    Willamette Valley  Willamette Valley   \n",
       "...                   ...                  ...                ...   \n",
       "129966              Mosel                  NaN                NaN   \n",
       "129967             Oregon               Oregon       Oregon Other   \n",
       "129968             Alsace               Alsace                NaN   \n",
       "129969             Alsace               Alsace                NaN   \n",
       "129970             Alsace               Alsace                NaN   \n",
       "\n",
       "               taster_name taster_twitter_handle  \\\n",
       "0            Kerin O’Keefe          @kerinokeefe   \n",
       "1               Roger Voss            @vossroger   \n",
       "2             Paul Gregutt           @paulgwine    \n",
       "3       Alexander Peartree                   NaN   \n",
       "4             Paul Gregutt           @paulgwine    \n",
       "...                    ...                   ...   \n",
       "129966  Anna Lee C. Iijima                   NaN   \n",
       "129967        Paul Gregutt           @paulgwine    \n",
       "129968          Roger Voss            @vossroger   \n",
       "129969          Roger Voss            @vossroger   \n",
       "129970          Roger Voss            @vossroger   \n",
       "\n",
       "                                                    title         variety  \\\n",
       "0                       Nicosia 2013 Vulkà Bianco  (Etna)     White Blend   \n",
       "1           Quinta dos Avidagos 2011 Avidagos Red (Douro)  Portuguese Red   \n",
       "2           Rainstorm 2013 Pinot Gris (Willamette Valley)      Pinot Gris   \n",
       "3       St. Julian 2013 Reserve Late Harvest Riesling ...        Riesling   \n",
       "4       Sweet Cheeks 2012 Vintner's Reserve Wild Child...      Pinot Noir   \n",
       "...                                                   ...             ...   \n",
       "129966  Dr. H. Thanisch (Erben Müller-Burggraef) 2013 ...        Riesling   \n",
       "129967                  Citation 2004 Pinot Noir (Oregon)      Pinot Noir   \n",
       "129968  Domaine Gresser 2013 Kritt Gewurztraminer (Als...  Gewürztraminer   \n",
       "129969      Domaine Marcel Deiss 2012 Pinot Gris (Alsace)      Pinot Gris   \n",
       "129970  Domaine Schoffit 2012 Lieu-dit Harth Cuvée Car...  Gewürztraminer   \n",
       "\n",
       "                                          winery  \n",
       "0                                        Nicosia  \n",
       "1                            Quinta dos Avidagos  \n",
       "2                                      Rainstorm  \n",
       "3                                     St. Julian  \n",
       "4                                   Sweet Cheeks  \n",
       "...                                          ...  \n",
       "129966  Dr. H. Thanisch (Erben Müller-Burggraef)  \n",
       "129967                                  Citation  \n",
       "129968                           Domaine Gresser  \n",
       "129969                      Domaine Marcel Deiss  \n",
       "129970                          Domaine Schoffit  \n",
       "\n",
       "[129971 rows x 13 columns]"
      ]
     },
     "execution_count": 2,
     "metadata": {},
     "output_type": "execute_result"
    }
   ],
   "source": [
    "reviews"
   ]
  },
  {
   "cell_type": "code",
   "execution_count": 3,
   "id": "fcb44c6f",
   "metadata": {
    "execution": {
     "iopub.execute_input": "2022-07-01T21:14:21.770530Z",
     "iopub.status.busy": "2022-07-01T21:14:21.769852Z",
     "iopub.status.idle": "2022-07-01T21:14:21.795146Z",
     "shell.execute_reply": "2022-07-01T21:14:21.793840Z"
    },
    "papermill": {
     "duration": 0.036952,
     "end_time": "2022-07-01T21:14:21.797503",
     "exception": false,
     "start_time": "2022-07-01T21:14:21.760551",
     "status": "completed"
    },
    "tags": []
   },
   "outputs": [],
   "source": [
    "group_by_taster_twitter_handle =reviews.groupby('taster_twitter_handle').taster_twitter_handle.agg(len)"
   ]
  },
  {
   "cell_type": "code",
   "execution_count": 4,
   "id": "972047e8",
   "metadata": {
    "execution": {
     "iopub.execute_input": "2022-07-01T21:14:21.815764Z",
     "iopub.status.busy": "2022-07-01T21:14:21.815379Z",
     "iopub.status.idle": "2022-07-01T21:14:21.825328Z",
     "shell.execute_reply": "2022-07-01T21:14:21.824226Z"
    },
    "papermill": {
     "duration": 0.021708,
     "end_time": "2022-07-01T21:14:21.827554",
     "exception": false,
     "start_time": "2022-07-01T21:14:21.805846",
     "status": "completed"
    },
    "tags": []
   },
   "outputs": [
    {
     "data": {
      "application/javascript": [
       "parent.postMessage({\"jupyterEvent\": \"custom.exercise_interaction\", \"data\": {\"outcomeType\": 1, \"valueTowardsCompletion\": 0.16666666666666666, \"interactionType\": 1, \"questionType\": 1, \"questionId\": \"1_ReviewsWritten\", \"learnToolsVersion\": \"0.3.4\", \"failureMessage\": \"\", \"exceptionClass\": \"\", \"trace\": \"\"}}, \"*\")"
      ],
      "text/plain": [
       "<IPython.core.display.Javascript object>"
      ]
     },
     "metadata": {},
     "output_type": "display_data"
    },
    {
     "data": {
      "text/markdown": [
       "<span style=\"color:#33cc33\">Correct:</span> \n",
       "\n",
       "\n",
       "```python\n",
       "reviews_written = reviews.groupby('taster_twitter_handle').size()\n",
       "```\n",
       "or\n",
       "```python\n",
       "reviews_written = reviews.groupby('taster_twitter_handle').taster_twitter_handle.count()\n",
       "```\n"
      ],
      "text/plain": [
       "Correct: \n",
       "\n",
       "\n",
       "```python\n",
       "reviews_written = reviews.groupby('taster_twitter_handle').size()\n",
       "```\n",
       "or\n",
       "```python\n",
       "reviews_written = reviews.groupby('taster_twitter_handle').taster_twitter_handle.count()\n",
       "```"
      ]
     },
     "metadata": {},
     "output_type": "display_data"
    }
   ],
   "source": [
    "# Your code here\n",
    "#reviews.groupby('taster_twitter_handle').size()\n",
    "#reviews.groupby('taster_twitter_handle').taster_twitter_handle.count()\n",
    "reviews_written = pd.Series(data=group_by_taster_twitter_handle,index=group_by_taster_twitter_handle.index)\n",
    "\n",
    "# Check your answer\n",
    "q1.check()"
   ]
  },
  {
   "cell_type": "code",
   "execution_count": 5,
   "id": "0f407bec",
   "metadata": {
    "execution": {
     "iopub.execute_input": "2022-07-01T21:14:21.845664Z",
     "iopub.status.busy": "2022-07-01T21:14:21.845345Z",
     "iopub.status.idle": "2022-07-01T21:14:21.849209Z",
     "shell.execute_reply": "2022-07-01T21:14:21.848124Z"
    },
    "papermill": {
     "duration": 0.015383,
     "end_time": "2022-07-01T21:14:21.851221",
     "exception": false,
     "start_time": "2022-07-01T21:14:21.835838",
     "status": "completed"
    },
    "tags": []
   },
   "outputs": [],
   "source": [
    "#q1.hint()\n",
    "#q1.solution()"
   ]
  },
  {
   "cell_type": "markdown",
   "id": "41800f74",
   "metadata": {
    "papermill": {
     "duration": 0.008059,
     "end_time": "2022-07-01T21:14:21.867543",
     "exception": false,
     "start_time": "2022-07-01T21:14:21.859484",
     "status": "completed"
    },
    "tags": []
   },
   "source": [
    "## 2.\n",
    "What is the best wine I can buy for a given amount of money? Create a `Series` whose index is wine prices and whose values is the maximum number of points a wine costing that much was given in a review. Sort the values by price, ascending (so that `4.0` dollars is at the top and `3300.0` dollars is at the bottom)."
   ]
  },
  {
   "cell_type": "code",
   "execution_count": 6,
   "id": "112e8887",
   "metadata": {
    "execution": {
     "iopub.execute_input": "2022-07-01T21:14:21.885738Z",
     "iopub.status.busy": "2022-07-01T21:14:21.885333Z",
     "iopub.status.idle": "2022-07-01T21:14:21.900230Z",
     "shell.execute_reply": "2022-07-01T21:14:21.898993Z"
    },
    "papermill": {
     "duration": 0.026766,
     "end_time": "2022-07-01T21:14:21.902585",
     "exception": false,
     "start_time": "2022-07-01T21:14:21.875819",
     "status": "completed"
    },
    "tags": []
   },
   "outputs": [
    {
     "data": {
      "application/javascript": [
       "parent.postMessage({\"jupyterEvent\": \"custom.exercise_interaction\", \"data\": {\"outcomeType\": 1, \"valueTowardsCompletion\": 0.16666666666666666, \"interactionType\": 1, \"questionType\": 1, \"questionId\": \"2_BestRatingPerPrice\", \"learnToolsVersion\": \"0.3.4\", \"failureMessage\": \"\", \"exceptionClass\": \"\", \"trace\": \"\"}}, \"*\")"
      ],
      "text/plain": [
       "<IPython.core.display.Javascript object>"
      ]
     },
     "metadata": {},
     "output_type": "display_data"
    },
    {
     "data": {
      "text/markdown": [
       "<span style=\"color:#33cc33\">Correct</span>"
      ],
      "text/plain": [
       "Correct"
      ]
     },
     "metadata": {},
     "output_type": "display_data"
    }
   ],
   "source": [
    "grouping_sorting_by_price_  = reviews.groupby('price').points.agg(max).sort_index()\n",
    "best_rating_per_price = pd.Series(data = grouping_sorting_by_price_,index=grouping_sorting_by_price_.index)\n",
    "\n",
    "# Check your answer\n",
    "q2.check()"
   ]
  },
  {
   "cell_type": "code",
   "execution_count": 7,
   "id": "39f93016",
   "metadata": {
    "execution": {
     "iopub.execute_input": "2022-07-01T21:14:21.921916Z",
     "iopub.status.busy": "2022-07-01T21:14:21.921520Z",
     "iopub.status.idle": "2022-07-01T21:14:21.926235Z",
     "shell.execute_reply": "2022-07-01T21:14:21.925106Z"
    },
    "papermill": {
     "duration": 0.01723,
     "end_time": "2022-07-01T21:14:21.928546",
     "exception": false,
     "start_time": "2022-07-01T21:14:21.911316",
     "status": "completed"
    },
    "tags": []
   },
   "outputs": [],
   "source": [
    "#q2.hint()\n",
    "#q2.solution()"
   ]
  },
  {
   "cell_type": "markdown",
   "id": "d41ca736",
   "metadata": {
    "papermill": {
     "duration": 0.009098,
     "end_time": "2022-07-01T21:14:21.946658",
     "exception": false,
     "start_time": "2022-07-01T21:14:21.937560",
     "status": "completed"
    },
    "tags": []
   },
   "source": [
    "## 3.\n",
    "What are the minimum and maximum prices for each `variety` of wine? Create a `DataFrame` whose index is the `variety` category from the dataset and whose values are the `min` and `max` values thereof."
   ]
  },
  {
   "cell_type": "code",
   "execution_count": 8,
   "id": "03477a69",
   "metadata": {
    "execution": {
     "iopub.execute_input": "2022-07-01T21:14:21.966784Z",
     "iopub.status.busy": "2022-07-01T21:14:21.966344Z",
     "iopub.status.idle": "2022-07-01T21:14:21.971376Z",
     "shell.execute_reply": "2022-07-01T21:14:21.969976Z"
    },
    "papermill": {
     "duration": 0.018035,
     "end_time": "2022-07-01T21:14:21.973727",
     "exception": false,
     "start_time": "2022-07-01T21:14:21.955692",
     "status": "completed"
    },
    "tags": []
   },
   "outputs": [],
   "source": [
    "#print('ok')"
   ]
  },
  {
   "cell_type": "code",
   "execution_count": 9,
   "id": "75c9b14b",
   "metadata": {
    "execution": {
     "iopub.execute_input": "2022-07-01T21:14:21.992986Z",
     "iopub.status.busy": "2022-07-01T21:14:21.992608Z",
     "iopub.status.idle": "2022-07-01T21:14:22.022324Z",
     "shell.execute_reply": "2022-07-01T21:14:22.021445Z"
    },
    "papermill": {
     "duration": 0.042103,
     "end_time": "2022-07-01T21:14:22.024672",
     "exception": false,
     "start_time": "2022-07-01T21:14:21.982569",
     "status": "completed"
    },
    "tags": []
   },
   "outputs": [
    {
     "data": {
      "application/javascript": [
       "parent.postMessage({\"jupyterEvent\": \"custom.exercise_interaction\", \"data\": {\"outcomeType\": 1, \"valueTowardsCompletion\": 0.16666666666666666, \"interactionType\": 1, \"questionType\": 1, \"questionId\": \"3_PriceExtremes\", \"learnToolsVersion\": \"0.3.4\", \"failureMessage\": \"\", \"exceptionClass\": \"\", \"trace\": \"\"}}, \"*\")"
      ],
      "text/plain": [
       "<IPython.core.display.Javascript object>"
      ]
     },
     "metadata": {},
     "output_type": "display_data"
    },
    {
     "data": {
      "text/markdown": [
       "<span style=\"color:#33cc33\">Correct</span>"
      ],
      "text/plain": [
       "Correct"
      ]
     },
     "metadata": {},
     "output_type": "display_data"
    }
   ],
   "source": [
    "p = reviews.groupby('variety').price.agg([min,max])\n",
    "price_extremes = pd.DataFrame(index=p.index,data=p)\n",
    "\n",
    "# Check your answer\n",
    "q3.check()"
   ]
  },
  {
   "cell_type": "code",
   "execution_count": 10,
   "id": "28eb9160",
   "metadata": {
    "execution": {
     "iopub.execute_input": "2022-07-01T21:14:22.044654Z",
     "iopub.status.busy": "2022-07-01T21:14:22.043938Z",
     "iopub.status.idle": "2022-07-01T21:14:22.048779Z",
     "shell.execute_reply": "2022-07-01T21:14:22.047918Z"
    },
    "papermill": {
     "duration": 0.017378,
     "end_time": "2022-07-01T21:14:22.051115",
     "exception": false,
     "start_time": "2022-07-01T21:14:22.033737",
     "status": "completed"
    },
    "tags": []
   },
   "outputs": [],
   "source": [
    "#q3.hint()\n",
    "#q3.solution()"
   ]
  },
  {
   "cell_type": "markdown",
   "id": "0bccadc1",
   "metadata": {
    "papermill": {
     "duration": 0.008388,
     "end_time": "2022-07-01T21:14:22.068392",
     "exception": false,
     "start_time": "2022-07-01T21:14:22.060004",
     "status": "completed"
    },
    "tags": []
   },
   "source": [
    "## 4.\n",
    "What are the most expensive wine varieties? Create a variable `sorted_varieties` containing a copy of the dataframe from the previous question where varieties are sorted in descending order based on minimum price, then on maximum price (to break ties)."
   ]
  },
  {
   "cell_type": "code",
   "execution_count": 11,
   "id": "3aa879dd",
   "metadata": {
    "execution": {
     "iopub.execute_input": "2022-07-01T21:14:22.087841Z",
     "iopub.status.busy": "2022-07-01T21:14:22.087175Z",
     "iopub.status.idle": "2022-07-01T21:14:22.099507Z",
     "shell.execute_reply": "2022-07-01T21:14:22.098364Z"
    },
    "papermill": {
     "duration": 0.024753,
     "end_time": "2022-07-01T21:14:22.101773",
     "exception": false,
     "start_time": "2022-07-01T21:14:22.077020",
     "status": "completed"
    },
    "tags": []
   },
   "outputs": [
    {
     "data": {
      "application/javascript": [
       "parent.postMessage({\"jupyterEvent\": \"custom.exercise_interaction\", \"data\": {\"outcomeType\": 1, \"valueTowardsCompletion\": 0.16666666666666666, \"interactionType\": 1, \"questionType\": 1, \"questionId\": \"4_SortedVarieties\", \"learnToolsVersion\": \"0.3.4\", \"failureMessage\": \"\", \"exceptionClass\": \"\", \"trace\": \"\"}}, \"*\")"
      ],
      "text/plain": [
       "<IPython.core.display.Javascript object>"
      ]
     },
     "metadata": {},
     "output_type": "display_data"
    },
    {
     "data": {
      "text/markdown": [
       "<span style=\"color:#33cc33\">Correct</span>"
      ],
      "text/plain": [
       "Correct"
      ]
     },
     "metadata": {},
     "output_type": "display_data"
    }
   ],
   "source": [
    "sorted_varieties = price_extremes.sort_values(by=['min','max'],ascending=False)\n",
    "\n",
    "# Check your answer\n",
    "q4.check()"
   ]
  },
  {
   "cell_type": "code",
   "execution_count": 12,
   "id": "b232de3e",
   "metadata": {
    "execution": {
     "iopub.execute_input": "2022-07-01T21:14:22.122014Z",
     "iopub.status.busy": "2022-07-01T21:14:22.121335Z",
     "iopub.status.idle": "2022-07-01T21:14:22.126089Z",
     "shell.execute_reply": "2022-07-01T21:14:22.125153Z"
    },
    "papermill": {
     "duration": 0.017284,
     "end_time": "2022-07-01T21:14:22.128279",
     "exception": false,
     "start_time": "2022-07-01T21:14:22.110995",
     "status": "completed"
    },
    "tags": []
   },
   "outputs": [],
   "source": [
    "#q4.hint()\n",
    "#q4.solution()"
   ]
  },
  {
   "cell_type": "markdown",
   "id": "1121ddc0",
   "metadata": {
    "papermill": {
     "duration": 0.008881,
     "end_time": "2022-07-01T21:14:22.146327",
     "exception": false,
     "start_time": "2022-07-01T21:14:22.137446",
     "status": "completed"
    },
    "tags": []
   },
   "source": [
    "## 5.\n",
    "Create a `Series` whose index is reviewers and whose values is the average review score given out by that reviewer. Hint: you will need the `taster_name` and `points` columns."
   ]
  },
  {
   "cell_type": "code",
   "execution_count": 13,
   "id": "39e7acaf",
   "metadata": {
    "execution": {
     "iopub.execute_input": "2022-07-01T21:14:22.166336Z",
     "iopub.status.busy": "2022-07-01T21:14:22.165646Z",
     "iopub.status.idle": "2022-07-01T21:14:22.192264Z",
     "shell.execute_reply": "2022-07-01T21:14:22.191234Z"
    },
    "papermill": {
     "duration": 0.039242,
     "end_time": "2022-07-01T21:14:22.194475",
     "exception": false,
     "start_time": "2022-07-01T21:14:22.155233",
     "status": "completed"
    },
    "tags": []
   },
   "outputs": [
    {
     "data": {
      "application/javascript": [
       "parent.postMessage({\"jupyterEvent\": \"custom.exercise_interaction\", \"data\": {\"outcomeType\": 1, \"valueTowardsCompletion\": 0.16666666666666666, \"interactionType\": 1, \"questionType\": 1, \"questionId\": \"5_ReviewerMeanRatings\", \"learnToolsVersion\": \"0.3.4\", \"failureMessage\": \"\", \"exceptionClass\": \"\", \"trace\": \"\"}}, \"*\")"
      ],
      "text/plain": [
       "<IPython.core.display.Javascript object>"
      ]
     },
     "metadata": {},
     "output_type": "display_data"
    },
    {
     "data": {
      "text/markdown": [
       "<span style=\"color:#33cc33\">Correct</span>"
      ],
      "text/plain": [
       "Correct"
      ]
     },
     "metadata": {},
     "output_type": "display_data"
    }
   ],
   "source": [
    "aa=reviews.groupby('taster_name').points.agg('mean')\n",
    "reviewer_mean_ratings = pd.Series(data=aa,index=aa.index)\n",
    "\n",
    "# Check your answer\n",
    "q5.check()"
   ]
  },
  {
   "cell_type": "code",
   "execution_count": 14,
   "id": "6a616e63",
   "metadata": {
    "execution": {
     "iopub.execute_input": "2022-07-01T21:14:22.215314Z",
     "iopub.status.busy": "2022-07-01T21:14:22.214646Z",
     "iopub.status.idle": "2022-07-01T21:14:22.219276Z",
     "shell.execute_reply": "2022-07-01T21:14:22.218404Z"
    },
    "papermill": {
     "duration": 0.01741,
     "end_time": "2022-07-01T21:14:22.221449",
     "exception": false,
     "start_time": "2022-07-01T21:14:22.204039",
     "status": "completed"
    },
    "tags": []
   },
   "outputs": [],
   "source": [
    "#q5.hint()\n",
    "#q5.solution()"
   ]
  },
  {
   "cell_type": "markdown",
   "id": "ed12be3d",
   "metadata": {
    "papermill": {
     "duration": 0.009321,
     "end_time": "2022-07-01T21:14:22.240389",
     "exception": false,
     "start_time": "2022-07-01T21:14:22.231068",
     "status": "completed"
    },
    "tags": []
   },
   "source": [
    "Are there significant differences in the average scores assigned by the various reviewers? Run the cell below to use the `describe()` method to see a summary of the range of values."
   ]
  },
  {
   "cell_type": "code",
   "execution_count": 15,
   "id": "74d50078",
   "metadata": {
    "execution": {
     "iopub.execute_input": "2022-07-01T21:14:22.261332Z",
     "iopub.status.busy": "2022-07-01T21:14:22.260642Z",
     "iopub.status.idle": "2022-07-01T21:14:22.273463Z",
     "shell.execute_reply": "2022-07-01T21:14:22.272174Z"
    },
    "papermill": {
     "duration": 0.02615,
     "end_time": "2022-07-01T21:14:22.275941",
     "exception": false,
     "start_time": "2022-07-01T21:14:22.249791",
     "status": "completed"
    },
    "tags": []
   },
   "outputs": [
    {
     "data": {
      "text/plain": [
       "count    19.000000\n",
       "mean     88.233026\n",
       "std       1.243610\n",
       "min      85.855422\n",
       "25%      87.323501\n",
       "50%      88.536235\n",
       "75%      88.975256\n",
       "max      90.562551\n",
       "Name: points, dtype: float64"
      ]
     },
     "execution_count": 15,
     "metadata": {},
     "output_type": "execute_result"
    }
   ],
   "source": [
    "reviewer_mean_ratings.describe()"
   ]
  },
  {
   "cell_type": "markdown",
   "id": "d4fd2934",
   "metadata": {
    "papermill": {
     "duration": 0.009402,
     "end_time": "2022-07-01T21:14:22.294898",
     "exception": false,
     "start_time": "2022-07-01T21:14:22.285496",
     "status": "completed"
    },
    "tags": []
   },
   "source": [
    "## 6.\n",
    "What combination of countries and varieties are most common? Create a `Series` whose index is a `MultiIndex`of `{country, variety}` pairs. For example, a pinot noir produced in the US should map to `{\"US\", \"Pinot Noir\"}`. Sort the values in the `Series` in descending order based on wine count."
   ]
  },
  {
   "cell_type": "code",
   "execution_count": 16,
   "id": "46495945",
   "metadata": {
    "execution": {
     "iopub.execute_input": "2022-07-01T21:14:22.315699Z",
     "iopub.status.busy": "2022-07-01T21:14:22.315062Z",
     "iopub.status.idle": "2022-07-01T21:14:22.364731Z",
     "shell.execute_reply": "2022-07-01T21:14:22.363656Z"
    },
    "papermill": {
     "duration": 0.062901,
     "end_time": "2022-07-01T21:14:22.367282",
     "exception": false,
     "start_time": "2022-07-01T21:14:22.304381",
     "status": "completed"
    },
    "tags": []
   },
   "outputs": [],
   "source": [
    "r=reviews.groupby(['country','variety']).variety.count().sort_values(ascending=False)"
   ]
  },
  {
   "cell_type": "code",
   "execution_count": 17,
   "id": "bbb30efd",
   "metadata": {
    "execution": {
     "iopub.execute_input": "2022-07-01T21:14:22.388426Z",
     "iopub.status.busy": "2022-07-01T21:14:22.387837Z",
     "iopub.status.idle": "2022-07-01T21:14:22.396911Z",
     "shell.execute_reply": "2022-07-01T21:14:22.395757Z"
    },
    "papermill": {
     "duration": 0.022096,
     "end_time": "2022-07-01T21:14:22.399332",
     "exception": false,
     "start_time": "2022-07-01T21:14:22.377236",
     "status": "completed"
    },
    "tags": []
   },
   "outputs": [
    {
     "data": {
      "application/javascript": [
       "parent.postMessage({\"jupyterEvent\": \"custom.exercise_interaction\", \"data\": {\"outcomeType\": 1, \"valueTowardsCompletion\": 0.16666666666666666, \"interactionType\": 1, \"questionType\": 1, \"questionId\": \"6_GroupbyCountryVariety\", \"learnToolsVersion\": \"0.3.4\", \"failureMessage\": \"\", \"exceptionClass\": \"\", \"trace\": \"\"}}, \"*\")"
      ],
      "text/plain": [
       "<IPython.core.display.Javascript object>"
      ]
     },
     "metadata": {},
     "output_type": "display_data"
    },
    {
     "data": {
      "text/markdown": [
       "<span style=\"color:#33cc33\">Correct</span>"
      ],
      "text/plain": [
       "Correct"
      ]
     },
     "metadata": {},
     "output_type": "display_data"
    }
   ],
   "source": [
    "country_variety_counts = pd.Series(data=r,index=r.index)\n",
    "\n",
    "# Check your answer\n",
    "q6.check()"
   ]
  },
  {
   "cell_type": "code",
   "execution_count": 18,
   "id": "840af99b",
   "metadata": {
    "execution": {
     "iopub.execute_input": "2022-07-01T21:14:22.421238Z",
     "iopub.status.busy": "2022-07-01T21:14:22.420570Z",
     "iopub.status.idle": "2022-07-01T21:14:22.425638Z",
     "shell.execute_reply": "2022-07-01T21:14:22.424613Z"
    },
    "papermill": {
     "duration": 0.018583,
     "end_time": "2022-07-01T21:14:22.427872",
     "exception": false,
     "start_time": "2022-07-01T21:14:22.409289",
     "status": "completed"
    },
    "tags": []
   },
   "outputs": [],
   "source": [
    "#q6.hint()\n",
    "#q6.solution()"
   ]
  },
  {
   "cell_type": "markdown",
   "id": "d69e34ec",
   "metadata": {
    "papermill": {
     "duration": 0.009648,
     "end_time": "2022-07-01T21:14:22.447593",
     "exception": false,
     "start_time": "2022-07-01T21:14:22.437945",
     "status": "completed"
    },
    "tags": []
   },
   "source": [
    "# Keep going\n",
    "\n",
    "Move on to the [**data types and missing data**](https://www.kaggle.com/residentmario/data-types-and-missing-values)."
   ]
  },
  {
   "cell_type": "markdown",
   "id": "59caddad",
   "metadata": {
    "papermill": {
     "duration": 0.009685,
     "end_time": "2022-07-01T21:14:22.466898",
     "exception": false,
     "start_time": "2022-07-01T21:14:22.457213",
     "status": "completed"
    },
    "tags": []
   },
   "source": [
    "---\n",
    "\n",
    "\n",
    "\n",
    "\n",
    "*Have questions or comments? Visit the [course discussion forum](https://www.kaggle.com/learn/pandas/discussion) to chat with other learners.*"
   ]
  }
 ],
 "metadata": {
  "kernelspec": {
   "display_name": "Python 3",
   "language": "python",
   "name": "python3"
  },
  "language_info": {
   "codemirror_mode": {
    "name": "ipython",
    "version": 3
   },
   "file_extension": ".py",
   "mimetype": "text/x-python",
   "name": "python",
   "nbconvert_exporter": "python",
   "pygments_lexer": "ipython3",
   "version": "3.7.12"
  },
  "papermill": {
   "default_parameters": {},
   "duration": 13.724188,
   "end_time": "2022-07-01T21:14:23.097280",
   "environment_variables": {},
   "exception": null,
   "input_path": "__notebook__.ipynb",
   "output_path": "__notebook__.ipynb",
   "parameters": {},
   "start_time": "2022-07-01T21:14:09.373092",
   "version": "2.3.4"
  }
 },
 "nbformat": 4,
 "nbformat_minor": 5
}
