{
 "cells": [
  {
   "cell_type": "markdown",
   "id": "1fa9c13f",
   "metadata": {
    "papermill": {
     "duration": 0.006127,
     "end_time": "2022-07-01T21:45:46.633756",
     "exception": false,
     "start_time": "2022-07-01T21:45:46.627629",
     "status": "completed"
    },
    "tags": []
   },
   "source": [
    "**This notebook is an exercise in the [Pandas](https://www.kaggle.com/learn/pandas) course.  You can reference the tutorial at [this link](https://www.kaggle.com/residentmario/data-types-and-missing-values).**\n",
    "\n",
    "---\n"
   ]
  },
  {
   "cell_type": "markdown",
   "id": "d581c678",
   "metadata": {
    "papermill": {
     "duration": 0.004888,
     "end_time": "2022-07-01T21:45:46.644082",
     "exception": false,
     "start_time": "2022-07-01T21:45:46.639194",
     "status": "completed"
    },
    "tags": []
   },
   "source": [
    "# Introduction\n",
    "\n",
    "Run the following cell to load your data and some utility functions."
   ]
  },
  {
   "cell_type": "code",
   "execution_count": 1,
   "id": "42b0fb4b",
   "metadata": {
    "execution": {
     "iopub.execute_input": "2022-07-01T21:45:46.656906Z",
     "iopub.status.busy": "2022-07-01T21:45:46.656111Z",
     "iopub.status.idle": "2022-07-01T21:45:49.689626Z",
     "shell.execute_reply": "2022-07-01T21:45:49.687833Z"
    },
    "papermill": {
     "duration": 3.043776,
     "end_time": "2022-07-01T21:45:49.693088",
     "exception": false,
     "start_time": "2022-07-01T21:45:46.649312",
     "status": "completed"
    },
    "tags": []
   },
   "outputs": [
    {
     "name": "stdout",
     "output_type": "stream",
     "text": [
      "Setup complete.\n"
     ]
    }
   ],
   "source": [
    "import pandas as pd\n",
    "\n",
    "reviews = pd.read_csv(\"../input/wine-reviews/winemag-data-130k-v2.csv\", index_col=0)\n",
    "\n",
    "from learntools.core import binder; binder.bind(globals())\n",
    "from learntools.pandas.data_types_and_missing_data import *\n",
    "print(\"Setup complete.\")"
   ]
  },
  {
   "cell_type": "markdown",
   "id": "0c444355",
   "metadata": {
    "papermill": {
     "duration": 0.00627,
     "end_time": "2022-07-01T21:45:49.705475",
     "exception": false,
     "start_time": "2022-07-01T21:45:49.699205",
     "status": "completed"
    },
    "tags": []
   },
   "source": [
    "# Exercises"
   ]
  },
  {
   "cell_type": "markdown",
   "id": "d83e2cba",
   "metadata": {
    "papermill": {
     "duration": 0.004914,
     "end_time": "2022-07-01T21:45:49.715840",
     "exception": false,
     "start_time": "2022-07-01T21:45:49.710926",
     "status": "completed"
    },
    "tags": []
   },
   "source": [
    "## 1. \n",
    "What is the data type of the `points` column in the dataset?"
   ]
  },
  {
   "cell_type": "code",
   "execution_count": 2,
   "id": "2bff26d9",
   "metadata": {
    "execution": {
     "iopub.execute_input": "2022-07-01T21:45:49.729002Z",
     "iopub.status.busy": "2022-07-01T21:45:49.728234Z",
     "iopub.status.idle": "2022-07-01T21:45:49.742040Z",
     "shell.execute_reply": "2022-07-01T21:45:49.740628Z"
    },
    "papermill": {
     "duration": 0.023596,
     "end_time": "2022-07-01T21:45:49.744742",
     "exception": false,
     "start_time": "2022-07-01T21:45:49.721146",
     "status": "completed"
    },
    "tags": []
   },
   "outputs": [
    {
     "data": {
      "application/javascript": [
       "parent.postMessage({\"jupyterEvent\": \"custom.exercise_interaction\", \"data\": {\"outcomeType\": 1, \"valueTowardsCompletion\": 0.25, \"interactionType\": 1, \"questionType\": 1, \"questionId\": \"1_PointsDtype\", \"learnToolsVersion\": \"0.3.4\", \"failureMessage\": \"\", \"exceptionClass\": \"\", \"trace\": \"\"}}, \"*\")"
      ],
      "text/plain": [
       "<IPython.core.display.Javascript object>"
      ]
     },
     "metadata": {},
     "output_type": "display_data"
    },
    {
     "data": {
      "text/markdown": [
       "<span style=\"color:#33cc33\">Correct</span>"
      ],
      "text/plain": [
       "Correct"
      ]
     },
     "metadata": {},
     "output_type": "display_data"
    }
   ],
   "source": [
    "# Your code here\n",
    "dtype = reviews.points.dtype\n",
    "\n",
    "# Check your answer\n",
    "q1.check()"
   ]
  },
  {
   "cell_type": "code",
   "execution_count": 3,
   "id": "253d3384",
   "metadata": {
    "execution": {
     "iopub.execute_input": "2022-07-01T21:45:49.758135Z",
     "iopub.status.busy": "2022-07-01T21:45:49.757303Z",
     "iopub.status.idle": "2022-07-01T21:45:49.762256Z",
     "shell.execute_reply": "2022-07-01T21:45:49.761314Z"
    },
    "papermill": {
     "duration": 0.014323,
     "end_time": "2022-07-01T21:45:49.764657",
     "exception": false,
     "start_time": "2022-07-01T21:45:49.750334",
     "status": "completed"
    },
    "tags": []
   },
   "outputs": [],
   "source": [
    "#q1.hint()\n",
    "#q1.solution()"
   ]
  },
  {
   "cell_type": "markdown",
   "id": "a5618278",
   "metadata": {
    "papermill": {
     "duration": 0.005156,
     "end_time": "2022-07-01T21:45:49.775352",
     "exception": false,
     "start_time": "2022-07-01T21:45:49.770196",
     "status": "completed"
    },
    "tags": []
   },
   "source": [
    "## 2. \n",
    "Create a Series from entries in the `points` column, but convert the entries to strings. Hint: strings are `str` in native Python."
   ]
  },
  {
   "cell_type": "code",
   "execution_count": 4,
   "id": "b5c75c89",
   "metadata": {
    "execution": {
     "iopub.execute_input": "2022-07-01T21:45:49.787991Z",
     "iopub.status.busy": "2022-07-01T21:45:49.787593Z",
     "iopub.status.idle": "2022-07-01T21:45:49.933518Z",
     "shell.execute_reply": "2022-07-01T21:45:49.932243Z"
    },
    "papermill": {
     "duration": 0.155488,
     "end_time": "2022-07-01T21:45:49.936355",
     "exception": false,
     "start_time": "2022-07-01T21:45:49.780867",
     "status": "completed"
    },
    "tags": []
   },
   "outputs": [
    {
     "data": {
      "text/plain": [
       "0         87\n",
       "1         87\n",
       "2         87\n",
       "3         87\n",
       "4         87\n",
       "          ..\n",
       "129966    90\n",
       "129967    90\n",
       "129968    90\n",
       "129969    90\n",
       "129970    90\n",
       "Name: points, Length: 129971, dtype: object"
      ]
     },
     "execution_count": 4,
     "metadata": {},
     "output_type": "execute_result"
    }
   ],
   "source": [
    "pd.Series(data=reviews.points.astype('str'))"
   ]
  },
  {
   "cell_type": "code",
   "execution_count": 5,
   "id": "0c51fccf",
   "metadata": {
    "execution": {
     "iopub.execute_input": "2022-07-01T21:45:49.949987Z",
     "iopub.status.busy": "2022-07-01T21:45:49.949596Z",
     "iopub.status.idle": "2022-07-01T21:45:50.098431Z",
     "shell.execute_reply": "2022-07-01T21:45:50.097028Z"
    },
    "papermill": {
     "duration": 0.158995,
     "end_time": "2022-07-01T21:45:50.101096",
     "exception": false,
     "start_time": "2022-07-01T21:45:49.942101",
     "status": "completed"
    },
    "tags": []
   },
   "outputs": [
    {
     "data": {
      "application/javascript": [
       "parent.postMessage({\"jupyterEvent\": \"custom.exercise_interaction\", \"data\": {\"outcomeType\": 1, \"valueTowardsCompletion\": 0.25, \"interactionType\": 1, \"questionType\": 1, \"questionId\": \"2_StrPoints\", \"learnToolsVersion\": \"0.3.4\", \"failureMessage\": \"\", \"exceptionClass\": \"\", \"trace\": \"\"}}, \"*\")"
      ],
      "text/plain": [
       "<IPython.core.display.Javascript object>"
      ]
     },
     "metadata": {},
     "output_type": "display_data"
    },
    {
     "data": {
      "text/markdown": [
       "<span style=\"color:#33cc33\">Correct</span>"
      ],
      "text/plain": [
       "Correct"
      ]
     },
     "metadata": {},
     "output_type": "display_data"
    }
   ],
   "source": [
    "point_strings = pd.Series(data=reviews.points.astype('str'))\n",
    "\n",
    "# Check your answer\n",
    "q2.check()"
   ]
  },
  {
   "cell_type": "code",
   "execution_count": 6,
   "id": "adb14c92",
   "metadata": {
    "execution": {
     "iopub.execute_input": "2022-07-01T21:45:50.115763Z",
     "iopub.status.busy": "2022-07-01T21:45:50.115315Z",
     "iopub.status.idle": "2022-07-01T21:45:50.119575Z",
     "shell.execute_reply": "2022-07-01T21:45:50.118593Z"
    },
    "papermill": {
     "duration": 0.014439,
     "end_time": "2022-07-01T21:45:50.121688",
     "exception": false,
     "start_time": "2022-07-01T21:45:50.107249",
     "status": "completed"
    },
    "tags": []
   },
   "outputs": [],
   "source": [
    "#q2.hint()\n",
    "#q2.solution()"
   ]
  },
  {
   "cell_type": "markdown",
   "id": "afe9141f",
   "metadata": {
    "papermill": {
     "duration": 0.006856,
     "end_time": "2022-07-01T21:45:50.134552",
     "exception": false,
     "start_time": "2022-07-01T21:45:50.127696",
     "status": "completed"
    },
    "tags": []
   },
   "source": [
    "## 3.\n",
    "Sometimes the price column is null. How many reviews in the dataset are missing a price?"
   ]
  },
  {
   "cell_type": "code",
   "execution_count": 7,
   "id": "2eaa6577",
   "metadata": {
    "execution": {
     "iopub.execute_input": "2022-07-01T21:45:50.150983Z",
     "iopub.status.busy": "2022-07-01T21:45:50.149882Z",
     "iopub.status.idle": "2022-07-01T21:45:50.159499Z",
     "shell.execute_reply": "2022-07-01T21:45:50.158595Z"
    },
    "papermill": {
     "duration": 0.019998,
     "end_time": "2022-07-01T21:45:50.161842",
     "exception": false,
     "start_time": "2022-07-01T21:45:50.141844",
     "status": "completed"
    },
    "tags": []
   },
   "outputs": [
    {
     "data": {
      "application/javascript": [
       "parent.postMessage({\"jupyterEvent\": \"custom.exercise_interaction\", \"data\": {\"outcomeType\": 1, \"valueTowardsCompletion\": 0.25, \"interactionType\": 1, \"questionType\": 1, \"questionId\": \"3_CountMissingPrices\", \"learnToolsVersion\": \"0.3.4\", \"failureMessage\": \"\", \"exceptionClass\": \"\", \"trace\": \"\"}}, \"*\")"
      ],
      "text/plain": [
       "<IPython.core.display.Javascript object>"
      ]
     },
     "metadata": {},
     "output_type": "display_data"
    },
    {
     "data": {
      "text/markdown": [
       "<span style=\"color:#33cc33\">Correct</span>"
      ],
      "text/plain": [
       "Correct"
      ]
     },
     "metadata": {},
     "output_type": "display_data"
    }
   ],
   "source": [
    "n_missing_prices = reviews.price.isnull().sum()\n",
    "\n",
    "# Check your answer\n",
    "q3.check()"
   ]
  },
  {
   "cell_type": "code",
   "execution_count": 8,
   "id": "14c26d1e",
   "metadata": {
    "execution": {
     "iopub.execute_input": "2022-07-01T21:45:50.177052Z",
     "iopub.status.busy": "2022-07-01T21:45:50.176272Z",
     "iopub.status.idle": "2022-07-01T21:45:50.180139Z",
     "shell.execute_reply": "2022-07-01T21:45:50.179363Z"
    },
    "papermill": {
     "duration": 0.014059,
     "end_time": "2022-07-01T21:45:50.182443",
     "exception": false,
     "start_time": "2022-07-01T21:45:50.168384",
     "status": "completed"
    },
    "tags": []
   },
   "outputs": [],
   "source": [
    "#q3.hint()\n",
    "#q3.solution()"
   ]
  },
  {
   "cell_type": "markdown",
   "id": "2072118f",
   "metadata": {
    "papermill": {
     "duration": 0.005976,
     "end_time": "2022-07-01T21:45:50.194780",
     "exception": false,
     "start_time": "2022-07-01T21:45:50.188804",
     "status": "completed"
    },
    "tags": []
   },
   "source": [
    "## 4.\n",
    "What are the most common wine-producing regions? Create a Series counting the number of times each value occurs in the `region_1` field. This field is often missing data, so replace missing values with `Unknown`. Sort in descending order.  Your output should look something like this:\n",
    "\n",
    "```\n",
    "Unknown                    21247\n",
    "Napa Valley                 4480\n",
    "                           ...  \n",
    "Bardolino Superiore            1\n",
    "Primitivo del Tarantino        1\n",
    "Name: region_1, Length: 1230, dtype: int64\n",
    "```"
   ]
  },
  {
   "cell_type": "code",
   "execution_count": 9,
   "id": "409796f0",
   "metadata": {
    "execution": {
     "iopub.execute_input": "2022-07-01T21:45:50.210414Z",
     "iopub.status.busy": "2022-07-01T21:45:50.209599Z",
     "iopub.status.idle": "2022-07-01T21:45:50.289238Z",
     "shell.execute_reply": "2022-07-01T21:45:50.287771Z"
    },
    "papermill": {
     "duration": 0.090839,
     "end_time": "2022-07-01T21:45:50.292364",
     "exception": false,
     "start_time": "2022-07-01T21:45:50.201525",
     "status": "completed"
    },
    "tags": []
   },
   "outputs": [
    {
     "data": {
      "application/javascript": [
       "parent.postMessage({\"jupyterEvent\": \"custom.exercise_interaction\", \"data\": {\"outcomeType\": 1, \"valueTowardsCompletion\": 0.25, \"interactionType\": 1, \"questionType\": 2, \"questionId\": \"4_ReviewsPerRegion\", \"learnToolsVersion\": \"0.3.4\", \"failureMessage\": \"\", \"exceptionClass\": \"\", \"trace\": \"\"}}, \"*\")"
      ],
      "text/plain": [
       "<IPython.core.display.Javascript object>"
      ]
     },
     "metadata": {},
     "output_type": "display_data"
    },
    {
     "data": {
      "text/markdown": [
       "<span style=\"color:#33cc33\">Correct</span>"
      ],
      "text/plain": [
       "Correct"
      ]
     },
     "metadata": {},
     "output_type": "display_data"
    }
   ],
   "source": [
    "reviews_per_region = reviews.region_1.fillna('Unknown').value_counts().sort_values(ascending=False)\n",
    "\n",
    "# Check your answer\n",
    "q4.check()"
   ]
  },
  {
   "cell_type": "code",
   "execution_count": 10,
   "id": "6c558dd7",
   "metadata": {
    "execution": {
     "iopub.execute_input": "2022-07-01T21:45:50.308048Z",
     "iopub.status.busy": "2022-07-01T21:45:50.307360Z",
     "iopub.status.idle": "2022-07-01T21:45:50.316141Z",
     "shell.execute_reply": "2022-07-01T21:45:50.315260Z"
    },
    "papermill": {
     "duration": 0.018965,
     "end_time": "2022-07-01T21:45:50.318392",
     "exception": false,
     "start_time": "2022-07-01T21:45:50.299427",
     "status": "completed"
    },
    "tags": []
   },
   "outputs": [
    {
     "data": {
      "application/javascript": [
       "parent.postMessage({\"jupyterEvent\": \"custom.exercise_interaction\", \"data\": {\"interactionType\": 3, \"questionType\": 2, \"questionId\": \"4_ReviewsPerRegion\", \"learnToolsVersion\": \"0.3.4\", \"valueTowardsCompletion\": 0.0, \"failureMessage\": \"\", \"exceptionClass\": \"\", \"trace\": \"\", \"outcomeType\": 4}}, \"*\")"
      ],
      "text/plain": [
       "<IPython.core.display.Javascript object>"
      ]
     },
     "metadata": {},
     "output_type": "display_data"
    },
    {
     "data": {
      "text/markdown": [
       "<span style=\"color:#33cc99\">Solution:</span> \n",
       "```python\n",
       "reviews_per_region = reviews.region_1.fillna('Unknown').value_counts().sort_values(ascending=False)\n",
       "```"
      ],
      "text/plain": [
       "Solution: \n",
       "```python\n",
       "reviews_per_region = reviews.region_1.fillna('Unknown').value_counts().sort_values(ascending=False)\n",
       "```"
      ]
     },
     "metadata": {},
     "output_type": "display_data"
    }
   ],
   "source": [
    "#q4.hint()\n",
    "q4.solution()"
   ]
  },
  {
   "cell_type": "markdown",
   "id": "c1a74d70",
   "metadata": {
    "papermill": {
     "duration": 0.006811,
     "end_time": "2022-07-01T21:45:50.331887",
     "exception": false,
     "start_time": "2022-07-01T21:45:50.325076",
     "status": "completed"
    },
    "tags": []
   },
   "source": [
    "# Keep going\n",
    "\n",
    "Move on to **[renaming and combining](https://www.kaggle.com/residentmario/renaming-and-combining)**."
   ]
  },
  {
   "cell_type": "markdown",
   "id": "6d5694ff",
   "metadata": {
    "papermill": {
     "duration": 0.006322,
     "end_time": "2022-07-01T21:45:50.345568",
     "exception": false,
     "start_time": "2022-07-01T21:45:50.339246",
     "status": "completed"
    },
    "tags": []
   },
   "source": [
    "---\n",
    "\n",
    "\n",
    "\n",
    "\n",
    "*Have questions or comments? Visit the [course discussion forum](https://www.kaggle.com/learn/pandas/discussion) to chat with other learners.*"
   ]
  }
 ],
 "metadata": {
  "kernelspec": {
   "display_name": "Python 3",
   "language": "python",
   "name": "python3"
  },
  "language_info": {
   "codemirror_mode": {
    "name": "ipython",
    "version": 3
   },
   "file_extension": ".py",
   "mimetype": "text/x-python",
   "name": "python",
   "nbconvert_exporter": "python",
   "pygments_lexer": "ipython3",
   "version": "3.7.12"
  },
  "papermill": {
   "default_parameters": {},
   "duration": 15.593313,
   "end_time": "2022-07-01T21:45:51.076259",
   "environment_variables": {},
   "exception": null,
   "input_path": "__notebook__.ipynb",
   "output_path": "__notebook__.ipynb",
   "parameters": {},
   "start_time": "2022-07-01T21:45:35.482946",
   "version": "2.3.4"
  }
 },
 "nbformat": 4,
 "nbformat_minor": 5
}
