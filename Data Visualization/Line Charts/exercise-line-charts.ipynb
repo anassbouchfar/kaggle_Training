{
 "cells": [
  {
   "cell_type": "markdown",
   "id": "dc7da3ed",
   "metadata": {
    "papermill": {
     "duration": 0.005828,
     "end_time": "2022-06-28T22:16:38.423990",
     "exception": false,
     "start_time": "2022-06-28T22:16:38.418162",
     "status": "completed"
    },
    "tags": []
   },
   "source": [
    "**This notebook is an exercise in the [Data Visualization](https://www.kaggle.com/learn/data-visualization) course.  You can reference the tutorial at [this link](https://www.kaggle.com/alexisbcook/line-charts).**\n",
    "\n",
    "---\n"
   ]
  },
  {
   "cell_type": "markdown",
   "id": "cdc3b750",
   "metadata": {
    "papermill": {
     "duration": 0.00449,
     "end_time": "2022-06-28T22:16:38.433963",
     "exception": false,
     "start_time": "2022-06-28T22:16:38.429473",
     "status": "completed"
    },
    "tags": []
   },
   "source": [
    "In this exercise, you will use your new knowledge to propose a solution to a real-world scenario. To succeed, you will need to import data into Python, answer questions using the data, and generate **line charts** to understand patterns in the data.\n",
    "\n",
    "## Scenario\n",
    "\n",
    "You have recently been hired to manage the museums in the City of Los Angeles. Your first project focuses on the four museums pictured in the images below.\n",
    "\n",
    "![ex1_museums](https://i.imgur.com/pFYL8J1.png)\n",
    "\n",
    "You will leverage data from the Los Angeles [Data Portal](https://data.lacity.org/) that tracks monthly visitors to each museum.  \n",
    "\n",
    "![ex1_xlsx](https://i.imgur.com/mGWYlym.png)\n",
    "\n",
    "## Setup\n",
    "\n",
    "Run the next cell to import and configure the Python libraries that you need to complete the exercise."
   ]
  },
  {
   "cell_type": "code",
   "execution_count": 1,
   "id": "d79b9c8d",
   "metadata": {
    "execution": {
     "iopub.execute_input": "2022-06-28T22:16:38.445573Z",
     "iopub.status.busy": "2022-06-28T22:16:38.445145Z",
     "iopub.status.idle": "2022-06-28T22:16:39.717642Z",
     "shell.execute_reply": "2022-06-28T22:16:39.716111Z"
    },
    "papermill": {
     "duration": 1.282206,
     "end_time": "2022-06-28T22:16:39.721141",
     "exception": false,
     "start_time": "2022-06-28T22:16:38.438935",
     "status": "completed"
    },
    "tags": []
   },
   "outputs": [
    {
     "name": "stdout",
     "output_type": "stream",
     "text": [
      "Setup Complete\n"
     ]
    }
   ],
   "source": [
    "import pandas as pd\n",
    "pd.plotting.register_matplotlib_converters()\n",
    "import matplotlib.pyplot as plt\n",
    "%matplotlib inline\n",
    "import seaborn as sns\n",
    "print(\"Setup Complete\")"
   ]
  },
  {
   "cell_type": "markdown",
   "id": "273affe7",
   "metadata": {
    "papermill": {
     "duration": 0.004687,
     "end_time": "2022-06-28T22:16:39.731042",
     "exception": false,
     "start_time": "2022-06-28T22:16:39.726355",
     "status": "completed"
    },
    "tags": []
   },
   "source": [
    "The questions below will give you feedback on your work. Run the following cell to set up the feedback system."
   ]
  },
  {
   "cell_type": "code",
   "execution_count": 2,
   "id": "f705911c",
   "metadata": {
    "execution": {
     "iopub.execute_input": "2022-06-28T22:16:39.743268Z",
     "iopub.status.busy": "2022-06-28T22:16:39.742083Z",
     "iopub.status.idle": "2022-06-28T22:16:39.819923Z",
     "shell.execute_reply": "2022-06-28T22:16:39.818814Z"
    },
    "papermill": {
     "duration": 0.08711,
     "end_time": "2022-06-28T22:16:39.823062",
     "exception": false,
     "start_time": "2022-06-28T22:16:39.735952",
     "status": "completed"
    },
    "tags": []
   },
   "outputs": [
    {
     "name": "stdout",
     "output_type": "stream",
     "text": [
      "Setup Complete\n"
     ]
    }
   ],
   "source": [
    "# Set up code checking\n",
    "import os\n",
    "if not os.path.exists(\"../input/museum_visitors.csv\"):\n",
    "    os.symlink(\"../input/data-for-datavis/museum_visitors.csv\", \"../input/museum_visitors.csv\") \n",
    "from learntools.core import binder\n",
    "binder.bind(globals())\n",
    "from learntools.data_viz_to_coder.ex2 import *\n",
    "print(\"Setup Complete\")"
   ]
  },
  {
   "cell_type": "markdown",
   "id": "8fde7dfe",
   "metadata": {
    "papermill": {
     "duration": 0.004688,
     "end_time": "2022-06-28T22:16:39.833790",
     "exception": false,
     "start_time": "2022-06-28T22:16:39.829102",
     "status": "completed"
    },
    "tags": []
   },
   "source": [
    "## Step 1: Load the data\n",
    "\n",
    "Your first assignment is to read the LA Museum Visitors data file into `museum_data`.  Note that:\n",
    "- The filepath to the dataset is stored as `museum_filepath`.  Please **do not** change the provided value of the filepath.\n",
    "- The name of the column to use as row labels is `\"Date\"`.  (This can be seen in cell A1 when the file is opened in Excel.)\n",
    "\n",
    "To help with this, you may find it useful to revisit some relevant code from the tutorial, which we have pasted below:\n",
    "\n",
    "```python\n",
    "# Path of the file to read\n",
    "spotify_filepath = \"../input/spotify.csv\"\n",
    "\n",
    "# Read the file into a variable spotify_data\n",
    "spotify_data = pd.read_csv(spotify_filepath, index_col=\"Date\", parse_dates=True)\n",
    "```\n",
    "\n",
    "The code you need to write now looks very similar!"
   ]
  },
  {
   "cell_type": "code",
   "execution_count": 3,
   "id": "2fd0a6c0",
   "metadata": {
    "execution": {
     "iopub.execute_input": "2022-06-28T22:16:39.845275Z",
     "iopub.status.busy": "2022-06-28T22:16:39.844893Z",
     "iopub.status.idle": "2022-06-28T22:16:39.863278Z",
     "shell.execute_reply": "2022-06-28T22:16:39.861952Z"
    },
    "papermill": {
     "duration": 0.026848,
     "end_time": "2022-06-28T22:16:39.865605",
     "exception": false,
     "start_time": "2022-06-28T22:16:39.838757",
     "status": "completed"
    },
    "tags": []
   },
   "outputs": [
    {
     "data": {
      "application/javascript": [
       "parent.postMessage({\"jupyterEvent\": \"custom.exercise_interaction\", \"data\": {\"outcomeType\": 1, \"valueTowardsCompletion\": 0.3333333333333333, \"interactionType\": 1, \"questionType\": 1, \"questionId\": \"1_LoadMuseumData\", \"learnToolsVersion\": \"0.3.4\", \"failureMessage\": \"\", \"exceptionClass\": \"\", \"trace\": \"\"}}, \"*\")"
      ],
      "text/plain": [
       "<IPython.core.display.Javascript object>"
      ]
     },
     "metadata": {},
     "output_type": "display_data"
    },
    {
     "data": {
      "text/markdown": [
       "<span style=\"color:#33cc33\">Correct</span>"
      ],
      "text/plain": [
       "Correct"
      ]
     },
     "metadata": {},
     "output_type": "display_data"
    }
   ],
   "source": [
    "# Path of the file to read\n",
    "museum_filepath = \"../input/museum_visitors.csv\"\n",
    "\n",
    "# Fill in the line below to read the file into a variable museum_data\n",
    "museum_data = pd.read_csv(museum_filepath,index_col=\"Date\",parse_dates=True)\n",
    "\n",
    "# Run the line below with no changes to check that you've loaded the data correctly\n",
    "step_1.check()"
   ]
  },
  {
   "cell_type": "code",
   "execution_count": 4,
   "id": "dbac8536",
   "metadata": {
    "execution": {
     "iopub.execute_input": "2022-06-28T22:16:39.878424Z",
     "iopub.status.busy": "2022-06-28T22:16:39.877699Z",
     "iopub.status.idle": "2022-06-28T22:16:39.882694Z",
     "shell.execute_reply": "2022-06-28T22:16:39.881496Z"
    },
    "papermill": {
     "duration": 0.013619,
     "end_time": "2022-06-28T22:16:39.884932",
     "exception": false,
     "start_time": "2022-06-28T22:16:39.871313",
     "status": "completed"
    },
    "tags": []
   },
   "outputs": [],
   "source": [
    "# Uncomment the line below to receive a hint\n",
    "#step_1.hint()\n",
    "# Uncomment the line below to see the solution\n",
    "#step_1.solution()"
   ]
  },
  {
   "cell_type": "markdown",
   "id": "33cf51a2",
   "metadata": {
    "papermill": {
     "duration": 0.004853,
     "end_time": "2022-06-28T22:16:39.894932",
     "exception": false,
     "start_time": "2022-06-28T22:16:39.890079",
     "status": "completed"
    },
    "tags": []
   },
   "source": [
    "## Step 2: Review the data\n",
    "\n",
    "Use a Python command to print the last 5 rows of the data."
   ]
  },
  {
   "cell_type": "code",
   "execution_count": 5,
   "id": "d48f890c",
   "metadata": {
    "execution": {
     "iopub.execute_input": "2022-06-28T22:16:39.908193Z",
     "iopub.status.busy": "2022-06-28T22:16:39.907161Z",
     "iopub.status.idle": "2022-06-28T22:16:39.923202Z",
     "shell.execute_reply": "2022-06-28T22:16:39.921971Z"
    },
    "papermill": {
     "duration": 0.025259,
     "end_time": "2022-06-28T22:16:39.925722",
     "exception": false,
     "start_time": "2022-06-28T22:16:39.900463",
     "status": "completed"
    },
    "tags": []
   },
   "outputs": [
    {
     "data": {
      "text/html": [
       "<div>\n",
       "<style scoped>\n",
       "    .dataframe tbody tr th:only-of-type {\n",
       "        vertical-align: middle;\n",
       "    }\n",
       "\n",
       "    .dataframe tbody tr th {\n",
       "        vertical-align: top;\n",
       "    }\n",
       "\n",
       "    .dataframe thead th {\n",
       "        text-align: right;\n",
       "    }\n",
       "</style>\n",
       "<table border=\"1\" class=\"dataframe\">\n",
       "  <thead>\n",
       "    <tr style=\"text-align: right;\">\n",
       "      <th></th>\n",
       "      <th>Avila Adobe</th>\n",
       "      <th>Firehouse Museum</th>\n",
       "      <th>Chinese American Museum</th>\n",
       "      <th>America Tropical Interpretive Center</th>\n",
       "    </tr>\n",
       "    <tr>\n",
       "      <th>Date</th>\n",
       "      <th></th>\n",
       "      <th></th>\n",
       "      <th></th>\n",
       "      <th></th>\n",
       "    </tr>\n",
       "  </thead>\n",
       "  <tbody>\n",
       "    <tr>\n",
       "      <th>2018-07-01</th>\n",
       "      <td>23136</td>\n",
       "      <td>4191</td>\n",
       "      <td>2620</td>\n",
       "      <td>4718</td>\n",
       "    </tr>\n",
       "    <tr>\n",
       "      <th>2018-08-01</th>\n",
       "      <td>20815</td>\n",
       "      <td>4866</td>\n",
       "      <td>2409</td>\n",
       "      <td>3891</td>\n",
       "    </tr>\n",
       "    <tr>\n",
       "      <th>2018-09-01</th>\n",
       "      <td>21020</td>\n",
       "      <td>4956</td>\n",
       "      <td>2146</td>\n",
       "      <td>3180</td>\n",
       "    </tr>\n",
       "    <tr>\n",
       "      <th>2018-10-01</th>\n",
       "      <td>19280</td>\n",
       "      <td>4622</td>\n",
       "      <td>2364</td>\n",
       "      <td>3775</td>\n",
       "    </tr>\n",
       "    <tr>\n",
       "      <th>2018-11-01</th>\n",
       "      <td>17163</td>\n",
       "      <td>4082</td>\n",
       "      <td>2385</td>\n",
       "      <td>4562</td>\n",
       "    </tr>\n",
       "  </tbody>\n",
       "</table>\n",
       "</div>"
      ],
      "text/plain": [
       "            Avila Adobe  Firehouse Museum  Chinese American Museum  \\\n",
       "Date                                                                 \n",
       "2018-07-01        23136              4191                     2620   \n",
       "2018-08-01        20815              4866                     2409   \n",
       "2018-09-01        21020              4956                     2146   \n",
       "2018-10-01        19280              4622                     2364   \n",
       "2018-11-01        17163              4082                     2385   \n",
       "\n",
       "            America Tropical Interpretive Center  \n",
       "Date                                              \n",
       "2018-07-01                                  4718  \n",
       "2018-08-01                                  3891  \n",
       "2018-09-01                                  3180  \n",
       "2018-10-01                                  3775  \n",
       "2018-11-01                                  4562  "
      ]
     },
     "execution_count": 5,
     "metadata": {},
     "output_type": "execute_result"
    }
   ],
   "source": [
    "# Print the last five rows of the data \n",
    " # Your code here\n",
    "museum_data.tail()"
   ]
  },
  {
   "cell_type": "markdown",
   "id": "c38624e9",
   "metadata": {
    "papermill": {
     "duration": 0.005091,
     "end_time": "2022-06-28T22:16:39.936250",
     "exception": false,
     "start_time": "2022-06-28T22:16:39.931159",
     "status": "completed"
    },
    "tags": []
   },
   "source": [
    "The last row (for `2018-11-01`) tracks the number of visitors to each museum in November 2018, the next-to-last row (for `2018-10-01`) tracks the number of visitors to each museum in October 2018, _and so on_.\n",
    "\n",
    "Use the last 5 rows of the data to answer the questions below."
   ]
  },
  {
   "cell_type": "code",
   "execution_count": 6,
   "id": "586dcee6",
   "metadata": {
    "execution": {
     "iopub.execute_input": "2022-06-28T22:16:39.948481Z",
     "iopub.status.busy": "2022-06-28T22:16:39.948054Z",
     "iopub.status.idle": "2022-06-28T22:16:39.958072Z",
     "shell.execute_reply": "2022-06-28T22:16:39.956953Z"
    },
    "papermill": {
     "duration": 0.018926,
     "end_time": "2022-06-28T22:16:39.960535",
     "exception": false,
     "start_time": "2022-06-28T22:16:39.941609",
     "status": "completed"
    },
    "tags": []
   },
   "outputs": [
    {
     "data": {
      "application/javascript": [
       "parent.postMessage({\"jupyterEvent\": \"custom.exercise_interaction\", \"data\": {\"outcomeType\": 1, \"valueTowardsCompletion\": 0.3333333333333333, \"interactionType\": 1, \"questionType\": 1, \"questionId\": \"2_ReviewData\", \"learnToolsVersion\": \"0.3.4\", \"failureMessage\": \"\", \"exceptionClass\": \"\", \"trace\": \"\"}}, \"*\")"
      ],
      "text/plain": [
       "<IPython.core.display.Javascript object>"
      ]
     },
     "metadata": {},
     "output_type": "display_data"
    },
    {
     "data": {
      "text/markdown": [
       "<span style=\"color:#33cc33\">Correct</span>"
      ],
      "text/plain": [
       "Correct"
      ]
     },
     "metadata": {},
     "output_type": "display_data"
    }
   ],
   "source": [
    "# Fill in the line below: How many visitors did the Chinese American Museum \n",
    "# receive in July 2018?\n",
    "ca_museum_jul18 = 2620\n",
    "\n",
    "# Fill in the line below: In October 2018, how many more visitors did Avila \n",
    "# Adobe receive than the Firehouse Museum?\n",
    "avila_oct18 = 19280-4622\n",
    "\n",
    "# Check your answers\n",
    "step_2.check()"
   ]
  },
  {
   "cell_type": "code",
   "execution_count": 7,
   "id": "7297e8f7",
   "metadata": {
    "execution": {
     "iopub.execute_input": "2022-06-28T22:16:39.974250Z",
     "iopub.status.busy": "2022-06-28T22:16:39.973076Z",
     "iopub.status.idle": "2022-06-28T22:16:39.978247Z",
     "shell.execute_reply": "2022-06-28T22:16:39.977061Z"
    },
    "papermill": {
     "duration": 0.014118,
     "end_time": "2022-06-28T22:16:39.980419",
     "exception": false,
     "start_time": "2022-06-28T22:16:39.966301",
     "status": "completed"
    },
    "tags": []
   },
   "outputs": [],
   "source": [
    "# Lines below will give you a hint or solution code\n",
    "#step_2.hint()\n",
    "#step_2.solution()"
   ]
  },
  {
   "cell_type": "markdown",
   "id": "d88196f6",
   "metadata": {
    "papermill": {
     "duration": 0.005226,
     "end_time": "2022-06-28T22:16:39.991369",
     "exception": false,
     "start_time": "2022-06-28T22:16:39.986143",
     "status": "completed"
    },
    "tags": []
   },
   "source": [
    "## Step 3: Convince the museum board \n",
    "\n",
    "The Firehouse Museum claims they ran an event in 2014 that brought an incredible number of visitors, and that they should get extra budget to run a similar event again.  The other museums think these types of events aren't that important, and budgets should be split purely based on recent visitors on an average day.  \n",
    "\n",
    "To show the museum board how the event compared to regular traffic at each museum, create a line chart that shows how the number of visitors to each museum evolved over time.  Your figure should have four lines (one for each museum).\n",
    "\n",
    "> **(Optional) Note**: If you have some prior experience with plotting figures in Python, you might be familiar with the `plt.show()` command.  If you decide to use this command, please place it **after** the line of code that checks your answer (in this case, place it after `step_3.check()` below) -- otherwise, the checking code will return an error!"
   ]
  },
  {
   "cell_type": "code",
   "execution_count": 8,
   "id": "3353f544",
   "metadata": {
    "execution": {
     "iopub.execute_input": "2022-06-28T22:16:40.004126Z",
     "iopub.status.busy": "2022-06-28T22:16:40.003378Z",
     "iopub.status.idle": "2022-06-28T22:16:40.349533Z",
     "shell.execute_reply": "2022-06-28T22:16:40.348268Z"
    },
    "papermill": {
     "duration": 0.355567,
     "end_time": "2022-06-28T22:16:40.352232",
     "exception": false,
     "start_time": "2022-06-28T22:16:39.996665",
     "status": "completed"
    },
    "tags": []
   },
   "outputs": [
    {
     "data": {
      "application/javascript": [
       "parent.postMessage({\"jupyterEvent\": \"custom.exercise_interaction\", \"data\": {\"outcomeType\": 1, \"valueTowardsCompletion\": 0.3333333333333333, \"interactionType\": 1, \"questionType\": 2, \"questionId\": \"3_PlotAll\", \"learnToolsVersion\": \"0.3.4\", \"failureMessage\": \"\", \"exceptionClass\": \"\", \"trace\": \"\"}}, \"*\")"
      ],
      "text/plain": [
       "<IPython.core.display.Javascript object>"
      ]
     },
     "metadata": {},
     "output_type": "display_data"
    },
    {
     "data": {
      "text/markdown": [
       "<span style=\"color:#33cc33\">Correct</span>"
      ],
      "text/plain": [
       "Correct"
      ]
     },
     "metadata": {},
     "output_type": "display_data"
    },
    {
     "data": {
      "image/png": "[encoded data removed]",
      "text/plain": [
       "<Figure size 432x288 with 1 Axes>"
      ]
     },
     "metadata": {
      "needs_background": "light"
     },
     "output_type": "display_data"
    }
   ],
   "source": [
    "# Line chart showing the number of visitors to each museum over time\n",
    " # Your code here\n",
    "sns.lineplot(data=museum_data)\n",
    "# Check your answer\n",
    "step_3.check()"
   ]
  },
  {
   "cell_type": "code",
   "execution_count": 9,
   "id": "b5154c21",
   "metadata": {
    "execution": {
     "iopub.execute_input": "2022-06-28T22:16:40.367165Z",
     "iopub.status.busy": "2022-06-28T22:16:40.366728Z",
     "iopub.status.idle": "2022-06-28T22:16:40.370986Z",
     "shell.execute_reply": "2022-06-28T22:16:40.369753Z"
    },
    "papermill": {
     "duration": 0.014616,
     "end_time": "2022-06-28T22:16:40.373161",
     "exception": false,
     "start_time": "2022-06-28T22:16:40.358545",
     "status": "completed"
    },
    "tags": []
   },
   "outputs": [],
   "source": [
    "# Lines below will give you a hint or solution code\n",
    "#step_3.hint()\n",
    "#step_3.solution_plot()"
   ]
  },
  {
   "cell_type": "markdown",
   "id": "9aeaf685",
   "metadata": {
    "papermill": {
     "duration": 0.006398,
     "end_time": "2022-06-28T22:16:40.386003",
     "exception": false,
     "start_time": "2022-06-28T22:16:40.379605",
     "status": "completed"
    },
    "tags": []
   },
   "source": [
    "## Step 4: Assess seasonality\n",
    "\n",
    "When meeting with the employees at Avila Adobe, you hear that one major pain point is that the number of museum visitors varies greatly with the seasons, with low seasons (when the employees are perfectly staffed and happy) and also high seasons (when the employees are understaffed and stressed).  You realize that if you can predict these high and low seasons, you can plan ahead to hire some additional seasonal employees to help out with the extra work.\n",
    "\n",
    "#### Part A\n",
    "Create a line chart that shows how the number of visitors to Avila Adobe has evolved over time.  (_If your code returns an error, the first thing that you should check is that you've spelled the name of the column correctly!  You must write the name of the column exactly as it appears in the dataset._)"
   ]
  },
  {
   "cell_type": "code",
   "execution_count": 10,
   "id": "9efad97e",
   "metadata": {
    "execution": {
     "iopub.execute_input": "2022-06-28T22:16:40.400972Z",
     "iopub.status.busy": "2022-06-28T22:16:40.399986Z",
     "iopub.status.idle": "2022-06-28T22:16:40.706292Z",
     "shell.execute_reply": "2022-06-28T22:16:40.704922Z"
    },
    "papermill": {
     "duration": 0.316599,
     "end_time": "2022-06-28T22:16:40.709083",
     "exception": false,
     "start_time": "2022-06-28T22:16:40.392484",
     "status": "completed"
    },
    "tags": []
   },
   "outputs": [
    {
     "name": "stdout",
     "output_type": "stream",
     "text": [
      "Thank you for creating a line chart!  To see how your code compares to the official solution, please use the code cell below.\n"
     ]
    },
    {
     "data": {
      "application/javascript": [
       "parent.postMessage({\"jupyterEvent\": \"custom.exercise_interaction\", \"data\": {\"outcomeType\": 1, \"valueTowardsCompletion\": 0.3333333333333333, \"interactionType\": 1, \"questionType\": 2, \"questionId\": \"4.1_PlotAvila\", \"learnToolsVersion\": \"0.3.4\", \"failureMessage\": \"\", \"exceptionClass\": \"\", \"trace\": \"\"}}, \"*\")"
      ],
      "text/plain": [
       "<IPython.core.display.Javascript object>"
      ]
     },
     "metadata": {},
     "output_type": "display_data"
    },
    {
     "data": {
      "text/markdown": [
       "<span style=\"color:#33cc33\">Correct</span>"
      ],
      "text/plain": [
       "Correct"
      ]
     },
     "metadata": {},
     "output_type": "display_data"
    },
    {
     "data": {
      "image/png": "[encoded data removed]",
      "text/plain": [
       "<Figure size 1152x720 with 1 Axes>"
      ]
     },
     "metadata": {
      "needs_background": "light"
     },
     "output_type": "display_data"
    }
   ],
   "source": [
    "# Line plot showing the number of visitors to Avila Adobe over time\n",
    " # Your code here\n",
    "plt.figure(figsize=(16,10))\n",
    "plt.title('monthly number of visitors to the Avila Adobe Museum between 2014 and 2019')\n",
    "sns.lineplot(data=museum_data['Avila Adobe'],label='Avila Adobe museum')\n",
    "# Check your answer\n",
    "step_4.a.check()"
   ]
  },
  {
   "cell_type": "code",
   "execution_count": 11,
   "id": "1607873f",
   "metadata": {
    "execution": {
     "iopub.execute_input": "2022-06-28T22:16:40.727235Z",
     "iopub.status.busy": "2022-06-28T22:16:40.726834Z",
     "iopub.status.idle": "2022-06-28T22:16:40.731471Z",
     "shell.execute_reply": "2022-06-28T22:16:40.730172Z"
    },
    "papermill": {
     "duration": 0.016669,
     "end_time": "2022-06-28T22:16:40.733628",
     "exception": false,
     "start_time": "2022-06-28T22:16:40.716959",
     "status": "completed"
    },
    "tags": []
   },
   "outputs": [],
   "source": [
    "# Lines below will give you a hint or solution code\n",
    "#step_4.a.hint()\n",
    "#step_4.a.solution_plot()"
   ]
  },
  {
   "cell_type": "markdown",
   "id": "3f537c79",
   "metadata": {
    "papermill": {
     "duration": 0.007389,
     "end_time": "2022-06-28T22:16:40.748844",
     "exception": false,
     "start_time": "2022-06-28T22:16:40.741455",
     "status": "completed"
    },
    "tags": []
   },
   "source": [
    "#### Part B\n",
    "\n",
    "Does Avila Adobe get more visitors:\n",
    "- in September-February (in LA, the fall and winter months), or \n",
    "- in March-August (in LA, the spring and summer)?  \n",
    "\n",
    "Using this information, when should the museum staff additional seasonal employees?"
   ]
  },
  {
   "cell_type": "code",
   "execution_count": 12,
   "id": "3e671f6b",
   "metadata": {
    "execution": {
     "iopub.execute_input": "2022-06-28T22:16:40.766365Z",
     "iopub.status.busy": "2022-06-28T22:16:40.765549Z",
     "iopub.status.idle": "2022-06-28T22:16:40.775457Z",
     "shell.execute_reply": "2022-06-28T22:16:40.774318Z"
    },
    "papermill": {
     "duration": 0.021118,
     "end_time": "2022-06-28T22:16:40.777766",
     "exception": false,
     "start_time": "2022-06-28T22:16:40.756648",
     "status": "completed"
    },
    "tags": []
   },
   "outputs": [
    {
     "data": {
      "application/javascript": [
       "parent.postMessage({\"jupyterEvent\": \"custom.exercise_interaction\", \"data\": {\"interactionType\": 2, \"questionType\": 4, \"questionId\": \"4.2_ThinkAvila\", \"learnToolsVersion\": \"0.3.4\", \"valueTowardsCompletion\": 0.0, \"failureMessage\": \"\", \"exceptionClass\": \"\", \"trace\": \"\", \"outcomeType\": 4}}, \"*\")"
      ],
      "text/plain": [
       "<IPython.core.display.Javascript object>"
      ]
     },
     "metadata": {},
     "output_type": "display_data"
    },
    {
     "data": {
      "text/markdown": [
       "<span style=\"color:#3366cc\">Hint:</span> Look at the early part of each year (around January).  Does the line chart dip to low values or reach relatively high values?"
      ],
      "text/plain": [
       "Hint: Look at the early part of each year (around January).  Does the line chart dip to low values or reach relatively high values?"
      ]
     },
     "metadata": {},
     "output_type": "display_data"
    }
   ],
   "source": [
    "step_4.b.hint()"
   ]
  },
  {
   "cell_type": "code",
   "execution_count": 13,
   "id": "6b23f9f2",
   "metadata": {
    "execution": {
     "iopub.execute_input": "2022-06-28T22:16:40.795032Z",
     "iopub.status.busy": "2022-06-28T22:16:40.794281Z",
     "iopub.status.idle": "2022-06-28T22:16:40.801046Z",
     "shell.execute_reply": "2022-06-28T22:16:40.800323Z"
    },
    "papermill": {
     "duration": 0.017445,
     "end_time": "2022-06-28T22:16:40.802837",
     "exception": false,
     "start_time": "2022-06-28T22:16:40.785392",
     "status": "completed"
    },
    "tags": []
   },
   "outputs": [
    {
     "data": {
      "application/javascript": [
       "parent.postMessage({\"jupyterEvent\": \"custom.exercise_interaction\", \"data\": {\"interactionType\": 3, \"questionType\": 4, \"questionId\": \"4.2_ThinkAvila\", \"learnToolsVersion\": \"0.3.4\", \"valueTowardsCompletion\": 0.0, \"failureMessage\": \"\", \"exceptionClass\": \"\", \"trace\": \"\", \"outcomeType\": 4}}, \"*\")"
      ],
      "text/plain": [
       "<IPython.core.display.Javascript object>"
      ]
     },
     "metadata": {},
     "output_type": "display_data"
    },
    {
     "data": {
      "text/markdown": [
       "<span style=\"color:#33cc99\">Solution:</span> The line chart generally dips to relatively low values around the early part of each year (in December and January), and reaches its highest values in the middle of the year (especially around May and June).  Thus, Avila Adobe usually gets more visitors in March-August (or the spring and summer months).  With this in mind, Avila Adobe could definitely benefit from hiring more seasonal employees to help with the extra work in March-August (the spring and summer)!"
      ],
      "text/plain": [
       "Solution: The line chart generally dips to relatively low values around the early part of each year (in December and January), and reaches its highest values in the middle of the year (especially around May and June).  Thus, Avila Adobe usually gets more visitors in March-August (or the spring and summer months).  With this in mind, Avila Adobe could definitely benefit from hiring more seasonal employees to help with the extra work in March-August (the spring and summer)!"
      ]
     },
     "metadata": {},
     "output_type": "display_data"
    }
   ],
   "source": [
    "# Check your answer (Run this code cell to receive credit!)\n",
    "step_4.b.solution()"
   ]
  },
  {
   "cell_type": "markdown",
   "id": "b529f820",
   "metadata": {
    "papermill": {
     "duration": 0.007481,
     "end_time": "2022-06-28T22:16:40.818364",
     "exception": false,
     "start_time": "2022-06-28T22:16:40.810883",
     "status": "completed"
    },
    "tags": []
   },
   "source": [
    "# Keep going\n",
    "\n",
    "Move on to learn about **[bar charts and heatmaps](https://www.kaggle.com/alexisbcook/bar-charts-and-heatmaps)** with a new dataset!"
   ]
  },
  {
   "cell_type": "markdown",
   "id": "229249f5",
   "metadata": {
    "papermill": {
     "duration": 0.007553,
     "end_time": "2022-06-28T22:16:40.833802",
     "exception": false,
     "start_time": "2022-06-28T22:16:40.826249",
     "status": "completed"
    },
    "tags": []
   },
   "source": [
    "---\n",
    "\n",
    "\n",
    "\n",
    "\n",
    "*Have questions or comments? Visit the [course discussion forum](https://www.kaggle.com/learn/data-visualization/discussion) to chat with other learners.*"
   ]
  }
 ],
 "metadata": {
  "kernelspec": {
   "display_name": "Python 3",
   "language": "python",
   "name": "python3"
  },
  "language_info": {
   "codemirror_mode": {
    "name": "ipython",
    "version": 3
   },
   "file_extension": ".py",
   "mimetype": "text/x-python",
   "name": "python",
   "nbconvert_exporter": "python",
   "pygments_lexer": "ipython3",
   "version": "3.7.12"
  },
  "papermill": {
   "default_parameters": {},
   "duration": 12.297165,
   "end_time": "2022-06-28T22:16:41.563454",
   "environment_variables": {},
   "exception": null,
   "input_path": "__notebook__.ipynb",
   "output_path": "__notebook__.ipynb",
   "parameters": {},
   "start_time": "2022-06-28T22:16:29.266289",
   "version": "2.3.4"
  }
 },
 "nbformat": 4,
 "nbformat_minor": 5
}
