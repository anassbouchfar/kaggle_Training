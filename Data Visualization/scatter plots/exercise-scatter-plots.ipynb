{
 "cells": [
  {
   "cell_type": "markdown",
   "id": "930c5d96",
   "metadata": {
    "papermill": {
     "duration": 0.013015,
     "end_time": "2022-06-30T18:52:54.223151",
     "exception": false,
     "start_time": "2022-06-30T18:52:54.210136",
     "status": "completed"
    },
    "tags": []
   },
   "source": [
    "**This notebook is an exercise in the [Data Visualization](https://www.kaggle.com/learn/data-visualization) course.  You can reference the tutorial at [this link](https://www.kaggle.com/alexisbcook/scatter-plots).**\n",
    "\n",
    "---\n"
   ]
  },
  {
   "cell_type": "markdown",
   "id": "a0c0b3b8",
   "metadata": {
    "papermill": {
     "duration": 0.011577,
     "end_time": "2022-06-30T18:52:54.246814",
     "exception": false,
     "start_time": "2022-06-30T18:52:54.235237",
     "status": "completed"
    },
    "tags": []
   },
   "source": [
    "In this exercise, you will use your new knowledge to propose a solution to a real-world scenario.  To succeed, you will need to import data into Python, answer questions using the data, and generate **scatter plots** to understand patterns in the data.\n",
    "\n",
    "## Scenario\n",
    "\n",
    "You work for a major candy producer, and your goal is to write a report that your company can use to guide the design of its next product.  Soon after starting your research, you stumble across this [very interesting dataset](https://fivethirtyeight.com/features/the-ultimate-halloween-candy-power-ranking/) containing results from a fun survey to crowdsource favorite candies.\n",
    "\n",
    "## Setup\n",
    "\n",
    "Run the next cell to import and configure the Python libraries that you need to complete the exercise."
   ]
  },
  {
   "cell_type": "code",
   "execution_count": 1,
   "id": "1aaeb80d",
   "metadata": {
    "execution": {
     "iopub.execute_input": "2022-06-30T18:52:54.272217Z",
     "iopub.status.busy": "2022-06-30T18:52:54.271597Z",
     "iopub.status.idle": "2022-06-30T18:52:55.298303Z",
     "shell.execute_reply": "2022-06-30T18:52:55.297179Z"
    },
    "papermill": {
     "duration": 1.042311,
     "end_time": "2022-06-30T18:52:55.300880",
     "exception": false,
     "start_time": "2022-06-30T18:52:54.258569",
     "status": "completed"
    },
    "tags": []
   },
   "outputs": [
    {
     "name": "stdout",
     "output_type": "stream",
     "text": [
      "Setup Complete\n"
     ]
    }
   ],
   "source": [
    "import pandas as pd\n",
    "pd.plotting.register_matplotlib_converters()\n",
    "import matplotlib.pyplot as plt\n",
    "%matplotlib inline\n",
    "import seaborn as sns\n",
    "print(\"Setup Complete\")"
   ]
  },
  {
   "cell_type": "markdown",
   "id": "d279a2dc",
   "metadata": {
    "papermill": {
     "duration": 0.011764,
     "end_time": "2022-06-30T18:52:55.325020",
     "exception": false,
     "start_time": "2022-06-30T18:52:55.313256",
     "status": "completed"
    },
    "tags": []
   },
   "source": [
    "The questions below will give you feedback on your work. Run the following cell to set up our feedback system."
   ]
  },
  {
   "cell_type": "code",
   "execution_count": 2,
   "id": "de08093d",
   "metadata": {
    "execution": {
     "iopub.execute_input": "2022-06-30T18:52:55.350476Z",
     "iopub.status.busy": "2022-06-30T18:52:55.350108Z",
     "iopub.status.idle": "2022-06-30T18:52:55.415114Z",
     "shell.execute_reply": "2022-06-30T18:52:55.414066Z"
    },
    "papermill": {
     "duration": 0.080272,
     "end_time": "2022-06-30T18:52:55.417224",
     "exception": false,
     "start_time": "2022-06-30T18:52:55.336952",
     "status": "completed"
    },
    "tags": []
   },
   "outputs": [
    {
     "name": "stdout",
     "output_type": "stream",
     "text": [
      "Setup Complete\n"
     ]
    }
   ],
   "source": [
    "# Set up code checking\n",
    "import os\n",
    "if not os.path.exists(\"../input/candy.csv\"):\n",
    "    os.symlink(\"../input/data-for-datavis/candy.csv\", \"../input/candy.csv\") \n",
    "from learntools.core import binder\n",
    "binder.bind(globals())\n",
    "from learntools.data_viz_to_coder.ex4 import *\n",
    "print(\"Setup Complete\")"
   ]
  },
  {
   "cell_type": "markdown",
   "id": "49ccfafd",
   "metadata": {
    "papermill": {
     "duration": 0.011652,
     "end_time": "2022-06-30T18:52:55.441154",
     "exception": false,
     "start_time": "2022-06-30T18:52:55.429502",
     "status": "completed"
    },
    "tags": []
   },
   "source": [
    "## Step 1: Load the Data\n",
    "\n",
    "Read the candy data file into `candy_data`.  Use the `\"id\"` column to label the rows."
   ]
  },
  {
   "cell_type": "code",
   "execution_count": 3,
   "id": "fd1d1a50",
   "metadata": {
    "execution": {
     "iopub.execute_input": "2022-06-30T18:52:55.466374Z",
     "iopub.status.busy": "2022-06-30T18:52:55.465688Z",
     "iopub.status.idle": "2022-06-30T18:52:55.477885Z",
     "shell.execute_reply": "2022-06-30T18:52:55.477278Z"
    },
    "papermill": {
     "duration": 0.027377,
     "end_time": "2022-06-30T18:52:55.480457",
     "exception": false,
     "start_time": "2022-06-30T18:52:55.453080",
     "status": "completed"
    },
    "tags": []
   },
   "outputs": [
    {
     "data": {
      "application/javascript": [
       "parent.postMessage({\"jupyterEvent\": \"custom.exercise_interaction\", \"data\": {\"outcomeType\": 1, \"valueTowardsCompletion\": 0.3333333333333333, \"interactionType\": 1, \"questionType\": 1, \"questionId\": \"1_LoadData\", \"learnToolsVersion\": \"0.3.4\", \"failureMessage\": \"\", \"exceptionClass\": \"\", \"trace\": \"\"}}, \"*\")"
      ],
      "text/plain": [
       "<IPython.core.display.Javascript object>"
      ]
     },
     "metadata": {},
     "output_type": "display_data"
    },
    {
     "data": {
      "text/markdown": [
       "<span style=\"color:#33cc33\">Correct</span>"
      ],
      "text/plain": [
       "Correct"
      ]
     },
     "metadata": {},
     "output_type": "display_data"
    }
   ],
   "source": [
    "# Path of the file to read\n",
    "candy_filepath = \"../input/candy.csv\"\n",
    "\n",
    "# Fill in the line below to read the file into a variable candy_data\n",
    "candy_data = pd.read_csv(candy_filepath,index_col='id')\n",
    "\n",
    "# Run the line below with no changes to check that you've loaded the data correctly\n",
    "step_1.check()"
   ]
  },
  {
   "cell_type": "code",
   "execution_count": 4,
   "id": "8cc30fc8",
   "metadata": {
    "execution": {
     "iopub.execute_input": "2022-06-30T18:52:55.507205Z",
     "iopub.status.busy": "2022-06-30T18:52:55.506732Z",
     "iopub.status.idle": "2022-06-30T18:52:55.509656Z",
     "shell.execute_reply": "2022-06-30T18:52:55.509083Z"
    },
    "papermill": {
     "duration": 0.018016,
     "end_time": "2022-06-30T18:52:55.511520",
     "exception": false,
     "start_time": "2022-06-30T18:52:55.493504",
     "status": "completed"
    },
    "tags": []
   },
   "outputs": [],
   "source": [
    "# Lines below will give you a hint or solution code\n",
    "#step_1.hint()\n",
    "#step_1.solution()"
   ]
  },
  {
   "cell_type": "markdown",
   "id": "d32b696c",
   "metadata": {
    "papermill": {
     "duration": 0.012179,
     "end_time": "2022-06-30T18:52:55.537177",
     "exception": false,
     "start_time": "2022-06-30T18:52:55.524998",
     "status": "completed"
    },
    "tags": []
   },
   "source": [
    "## Step 2: Review the data\n",
    "\n",
    "Use a Python command to print the first five rows of the data."
   ]
  },
  {
   "cell_type": "code",
   "execution_count": 5,
   "id": "a0ca35ab",
   "metadata": {
    "execution": {
     "iopub.execute_input": "2022-06-30T18:52:55.563556Z",
     "iopub.status.busy": "2022-06-30T18:52:55.563080Z",
     "iopub.status.idle": "2022-06-30T18:52:55.584845Z",
     "shell.execute_reply": "2022-06-30T18:52:55.584127Z"
    },
    "papermill": {
     "duration": 0.037088,
     "end_time": "2022-06-30T18:52:55.586802",
     "exception": false,
     "start_time": "2022-06-30T18:52:55.549714",
     "status": "completed"
    },
    "tags": []
   },
   "outputs": [
    {
     "data": {
      "text/html": [
       "<div>\n",
       "<style scoped>\n",
       "    .dataframe tbody tr th:only-of-type {\n",
       "        vertical-align: middle;\n",
       "    }\n",
       "\n",
       "    .dataframe tbody tr th {\n",
       "        vertical-align: top;\n",
       "    }\n",
       "\n",
       "    .dataframe thead th {\n",
       "        text-align: right;\n",
       "    }\n",
       "</style>\n",
       "<table border=\"1\" class=\"dataframe\">\n",
       "  <thead>\n",
       "    <tr style=\"text-align: right;\">\n",
       "      <th></th>\n",
       "      <th>competitorname</th>\n",
       "      <th>chocolate</th>\n",
       "      <th>fruity</th>\n",
       "      <th>caramel</th>\n",
       "      <th>peanutyalmondy</th>\n",
       "      <th>nougat</th>\n",
       "      <th>crispedricewafer</th>\n",
       "      <th>hard</th>\n",
       "      <th>bar</th>\n",
       "      <th>pluribus</th>\n",
       "      <th>sugarpercent</th>\n",
       "      <th>pricepercent</th>\n",
       "      <th>winpercent</th>\n",
       "    </tr>\n",
       "    <tr>\n",
       "      <th>id</th>\n",
       "      <th></th>\n",
       "      <th></th>\n",
       "      <th></th>\n",
       "      <th></th>\n",
       "      <th></th>\n",
       "      <th></th>\n",
       "      <th></th>\n",
       "      <th></th>\n",
       "      <th></th>\n",
       "      <th></th>\n",
       "      <th></th>\n",
       "      <th></th>\n",
       "      <th></th>\n",
       "    </tr>\n",
       "  </thead>\n",
       "  <tbody>\n",
       "    <tr>\n",
       "      <th>0</th>\n",
       "      <td>100 Grand</td>\n",
       "      <td>Yes</td>\n",
       "      <td>No</td>\n",
       "      <td>Yes</td>\n",
       "      <td>No</td>\n",
       "      <td>No</td>\n",
       "      <td>Yes</td>\n",
       "      <td>No</td>\n",
       "      <td>Yes</td>\n",
       "      <td>No</td>\n",
       "      <td>0.732</td>\n",
       "      <td>0.860</td>\n",
       "      <td>66.971725</td>\n",
       "    </tr>\n",
       "    <tr>\n",
       "      <th>1</th>\n",
       "      <td>3 Musketeers</td>\n",
       "      <td>Yes</td>\n",
       "      <td>No</td>\n",
       "      <td>No</td>\n",
       "      <td>No</td>\n",
       "      <td>Yes</td>\n",
       "      <td>No</td>\n",
       "      <td>No</td>\n",
       "      <td>Yes</td>\n",
       "      <td>No</td>\n",
       "      <td>0.604</td>\n",
       "      <td>0.511</td>\n",
       "      <td>67.602936</td>\n",
       "    </tr>\n",
       "    <tr>\n",
       "      <th>2</th>\n",
       "      <td>Air Heads</td>\n",
       "      <td>No</td>\n",
       "      <td>Yes</td>\n",
       "      <td>No</td>\n",
       "      <td>No</td>\n",
       "      <td>No</td>\n",
       "      <td>No</td>\n",
       "      <td>No</td>\n",
       "      <td>No</td>\n",
       "      <td>No</td>\n",
       "      <td>0.906</td>\n",
       "      <td>0.511</td>\n",
       "      <td>52.341465</td>\n",
       "    </tr>\n",
       "    <tr>\n",
       "      <th>3</th>\n",
       "      <td>Almond Joy</td>\n",
       "      <td>Yes</td>\n",
       "      <td>No</td>\n",
       "      <td>No</td>\n",
       "      <td>Yes</td>\n",
       "      <td>No</td>\n",
       "      <td>No</td>\n",
       "      <td>No</td>\n",
       "      <td>Yes</td>\n",
       "      <td>No</td>\n",
       "      <td>0.465</td>\n",
       "      <td>0.767</td>\n",
       "      <td>50.347546</td>\n",
       "    </tr>\n",
       "    <tr>\n",
       "      <th>4</th>\n",
       "      <td>Baby Ruth</td>\n",
       "      <td>Yes</td>\n",
       "      <td>No</td>\n",
       "      <td>Yes</td>\n",
       "      <td>Yes</td>\n",
       "      <td>Yes</td>\n",
       "      <td>No</td>\n",
       "      <td>No</td>\n",
       "      <td>Yes</td>\n",
       "      <td>No</td>\n",
       "      <td>0.604</td>\n",
       "      <td>0.767</td>\n",
       "      <td>56.914547</td>\n",
       "    </tr>\n",
       "  </tbody>\n",
       "</table>\n",
       "</div>"
      ],
      "text/plain": [
       "   competitorname chocolate fruity caramel peanutyalmondy nougat  \\\n",
       "id                                                                 \n",
       "0       100 Grand       Yes     No     Yes             No     No   \n",
       "1    3 Musketeers       Yes     No      No             No    Yes   \n",
       "2       Air Heads        No    Yes      No             No     No   \n",
       "3      Almond Joy       Yes     No      No            Yes     No   \n",
       "4       Baby Ruth       Yes     No     Yes            Yes    Yes   \n",
       "\n",
       "   crispedricewafer hard  bar pluribus  sugarpercent  pricepercent  winpercent  \n",
       "id                                                                              \n",
       "0               Yes   No  Yes       No         0.732         0.860   66.971725  \n",
       "1                No   No  Yes       No         0.604         0.511   67.602936  \n",
       "2                No   No   No       No         0.906         0.511   52.341465  \n",
       "3                No   No  Yes       No         0.465         0.767   50.347546  \n",
       "4                No   No  Yes       No         0.604         0.767   56.914547  "
      ]
     },
     "execution_count": 5,
     "metadata": {},
     "output_type": "execute_result"
    }
   ],
   "source": [
    "# Print the first five rows of the data\n",
    "# Your code here\n",
    "candy_data.head()"
   ]
  },
  {
   "cell_type": "markdown",
   "id": "0b3ad708",
   "metadata": {
    "papermill": {
     "duration": 0.01243,
     "end_time": "2022-06-30T18:52:55.612163",
     "exception": false,
     "start_time": "2022-06-30T18:52:55.599733",
     "status": "completed"
    },
    "tags": []
   },
   "source": [
    "The dataset contains 83 rows, where each corresponds to a different candy bar.  There are 13 columns:\n",
    "- `'competitorname'` contains the name of the candy bar. \n",
    "- the next **9** columns (from `'chocolate'` to `'pluribus'`) describe the candy.  For instance, rows with chocolate candies have `\"Yes\"` in the `'chocolate'` column (and candies without chocolate have `\"No\"` in the same column).\n",
    "- `'sugarpercent'` provides some indication of the amount of sugar, where higher values signify higher sugar content.\n",
    "- `'pricepercent'` shows the price per unit, relative to the other candies in the dataset.\n",
    "- `'winpercent'` is calculated from the survey results; higher values indicate that the candy was more popular with survey respondents.\n",
    "\n",
    "Use the first five rows of the data to answer the questions below."
   ]
  },
  {
   "cell_type": "code",
   "execution_count": 6,
   "id": "250ba5c6",
   "metadata": {
    "execution": {
     "iopub.execute_input": "2022-06-30T18:52:55.640479Z",
     "iopub.status.busy": "2022-06-30T18:52:55.639995Z",
     "iopub.status.idle": "2022-06-30T18:52:55.659860Z",
     "shell.execute_reply": "2022-06-30T18:52:55.659246Z"
    },
    "papermill": {
     "duration": 0.036002,
     "end_time": "2022-06-30T18:52:55.661870",
     "exception": false,
     "start_time": "2022-06-30T18:52:55.625868",
     "status": "completed"
    },
    "tags": []
   },
   "outputs": [
    {
     "data": {
      "text/html": [
       "<div>\n",
       "<style scoped>\n",
       "    .dataframe tbody tr th:only-of-type {\n",
       "        vertical-align: middle;\n",
       "    }\n",
       "\n",
       "    .dataframe tbody tr th {\n",
       "        vertical-align: top;\n",
       "    }\n",
       "\n",
       "    .dataframe thead th {\n",
       "        text-align: right;\n",
       "    }\n",
       "</style>\n",
       "<table border=\"1\" class=\"dataframe\">\n",
       "  <thead>\n",
       "    <tr style=\"text-align: right;\">\n",
       "      <th></th>\n",
       "      <th>competitorname</th>\n",
       "      <th>chocolate</th>\n",
       "      <th>fruity</th>\n",
       "      <th>caramel</th>\n",
       "      <th>peanutyalmondy</th>\n",
       "      <th>nougat</th>\n",
       "      <th>crispedricewafer</th>\n",
       "      <th>hard</th>\n",
       "      <th>bar</th>\n",
       "      <th>pluribus</th>\n",
       "      <th>sugarpercent</th>\n",
       "      <th>pricepercent</th>\n",
       "      <th>winpercent</th>\n",
       "    </tr>\n",
       "    <tr>\n",
       "      <th>id</th>\n",
       "      <th></th>\n",
       "      <th></th>\n",
       "      <th></th>\n",
       "      <th></th>\n",
       "      <th></th>\n",
       "      <th></th>\n",
       "      <th></th>\n",
       "      <th></th>\n",
       "      <th></th>\n",
       "      <th></th>\n",
       "      <th></th>\n",
       "      <th></th>\n",
       "      <th></th>\n",
       "    </tr>\n",
       "  </thead>\n",
       "  <tbody>\n",
       "    <tr>\n",
       "      <th>1</th>\n",
       "      <td>3 Musketeers</td>\n",
       "      <td>Yes</td>\n",
       "      <td>No</td>\n",
       "      <td>No</td>\n",
       "      <td>No</td>\n",
       "      <td>Yes</td>\n",
       "      <td>No</td>\n",
       "      <td>No</td>\n",
       "      <td>Yes</td>\n",
       "      <td>No</td>\n",
       "      <td>0.604</td>\n",
       "      <td>0.511</td>\n",
       "      <td>67.602936</td>\n",
       "    </tr>\n",
       "    <tr>\n",
       "      <th>3</th>\n",
       "      <td>Almond Joy</td>\n",
       "      <td>Yes</td>\n",
       "      <td>No</td>\n",
       "      <td>No</td>\n",
       "      <td>Yes</td>\n",
       "      <td>No</td>\n",
       "      <td>No</td>\n",
       "      <td>No</td>\n",
       "      <td>Yes</td>\n",
       "      <td>No</td>\n",
       "      <td>0.465</td>\n",
       "      <td>0.767</td>\n",
       "      <td>50.347546</td>\n",
       "    </tr>\n",
       "  </tbody>\n",
       "</table>\n",
       "</div>"
      ],
      "text/plain": [
       "   competitorname chocolate fruity caramel peanutyalmondy nougat  \\\n",
       "id                                                                 \n",
       "1    3 Musketeers       Yes     No      No             No    Yes   \n",
       "3      Almond Joy       Yes     No      No            Yes     No   \n",
       "\n",
       "   crispedricewafer hard  bar pluribus  sugarpercent  pricepercent  winpercent  \n",
       "id                                                                              \n",
       "1                No   No  Yes       No         0.604         0.511   67.602936  \n",
       "3                No   No  Yes       No         0.465         0.767   50.347546  "
      ]
     },
     "execution_count": 6,
     "metadata": {},
     "output_type": "execute_result"
    }
   ],
   "source": [
    "candy_data[  (candy_data.competitorname=='Almond Joy') | (candy_data.competitorname=='3 Musketeers') ]"
   ]
  },
  {
   "cell_type": "code",
   "execution_count": 7,
   "id": "7dd1990a",
   "metadata": {
    "execution": {
     "iopub.execute_input": "2022-06-30T18:52:55.690216Z",
     "iopub.status.busy": "2022-06-30T18:52:55.689011Z",
     "iopub.status.idle": "2022-06-30T18:52:55.703530Z",
     "shell.execute_reply": "2022-06-30T18:52:55.702956Z"
    },
    "papermill": {
     "duration": 0.030211,
     "end_time": "2022-06-30T18:52:55.705409",
     "exception": false,
     "start_time": "2022-06-30T18:52:55.675198",
     "status": "completed"
    },
    "tags": []
   },
   "outputs": [
    {
     "data": {
      "text/html": [
       "<div>\n",
       "<style scoped>\n",
       "    .dataframe tbody tr th:only-of-type {\n",
       "        vertical-align: middle;\n",
       "    }\n",
       "\n",
       "    .dataframe tbody tr th {\n",
       "        vertical-align: top;\n",
       "    }\n",
       "\n",
       "    .dataframe thead th {\n",
       "        text-align: right;\n",
       "    }\n",
       "</style>\n",
       "<table border=\"1\" class=\"dataframe\">\n",
       "  <thead>\n",
       "    <tr style=\"text-align: right;\">\n",
       "      <th></th>\n",
       "      <th>competitorname</th>\n",
       "      <th>chocolate</th>\n",
       "      <th>fruity</th>\n",
       "      <th>caramel</th>\n",
       "      <th>peanutyalmondy</th>\n",
       "      <th>nougat</th>\n",
       "      <th>crispedricewafer</th>\n",
       "      <th>hard</th>\n",
       "      <th>bar</th>\n",
       "      <th>pluribus</th>\n",
       "      <th>sugarpercent</th>\n",
       "      <th>pricepercent</th>\n",
       "      <th>winpercent</th>\n",
       "    </tr>\n",
       "    <tr>\n",
       "      <th>id</th>\n",
       "      <th></th>\n",
       "      <th></th>\n",
       "      <th></th>\n",
       "      <th></th>\n",
       "      <th></th>\n",
       "      <th></th>\n",
       "      <th></th>\n",
       "      <th></th>\n",
       "      <th></th>\n",
       "      <th></th>\n",
       "      <th></th>\n",
       "      <th></th>\n",
       "      <th></th>\n",
       "    </tr>\n",
       "  </thead>\n",
       "  <tbody>\n",
       "    <tr>\n",
       "      <th>2</th>\n",
       "      <td>Air Heads</td>\n",
       "      <td>No</td>\n",
       "      <td>Yes</td>\n",
       "      <td>No</td>\n",
       "      <td>No</td>\n",
       "      <td>No</td>\n",
       "      <td>No</td>\n",
       "      <td>No</td>\n",
       "      <td>No</td>\n",
       "      <td>No</td>\n",
       "      <td>0.906</td>\n",
       "      <td>0.511</td>\n",
       "      <td>52.341465</td>\n",
       "    </tr>\n",
       "    <tr>\n",
       "      <th>4</th>\n",
       "      <td>Baby Ruth</td>\n",
       "      <td>Yes</td>\n",
       "      <td>No</td>\n",
       "      <td>Yes</td>\n",
       "      <td>Yes</td>\n",
       "      <td>Yes</td>\n",
       "      <td>No</td>\n",
       "      <td>No</td>\n",
       "      <td>Yes</td>\n",
       "      <td>No</td>\n",
       "      <td>0.604</td>\n",
       "      <td>0.767</td>\n",
       "      <td>56.914547</td>\n",
       "    </tr>\n",
       "  </tbody>\n",
       "</table>\n",
       "</div>"
      ],
      "text/plain": [
       "   competitorname chocolate fruity caramel peanutyalmondy nougat  \\\n",
       "id                                                                 \n",
       "2       Air Heads        No    Yes      No             No     No   \n",
       "4       Baby Ruth       Yes     No     Yes            Yes    Yes   \n",
       "\n",
       "   crispedricewafer hard  bar pluribus  sugarpercent  pricepercent  winpercent  \n",
       "id                                                                              \n",
       "2                No   No   No       No         0.906         0.511   52.341465  \n",
       "4                No   No  Yes       No         0.604         0.767   56.914547  "
      ]
     },
     "execution_count": 7,
     "metadata": {},
     "output_type": "execute_result"
    }
   ],
   "source": [
    "candy_data[  (candy_data.competitorname=='Air Heads') | (candy_data.competitorname=='Baby Ruth') ]"
   ]
  },
  {
   "cell_type": "code",
   "execution_count": 8,
   "id": "9c9b44d0",
   "metadata": {
    "execution": {
     "iopub.execute_input": "2022-06-30T18:52:55.733406Z",
     "iopub.status.busy": "2022-06-30T18:52:55.732957Z",
     "iopub.status.idle": "2022-06-30T18:52:55.739456Z",
     "shell.execute_reply": "2022-06-30T18:52:55.738900Z"
    },
    "papermill": {
     "duration": 0.023012,
     "end_time": "2022-06-30T18:52:55.741740",
     "exception": false,
     "start_time": "2022-06-30T18:52:55.718728",
     "status": "completed"
    },
    "tags": []
   },
   "outputs": [
    {
     "data": {
      "application/javascript": [
       "parent.postMessage({\"jupyterEvent\": \"custom.exercise_interaction\", \"data\": {\"outcomeType\": 1, \"valueTowardsCompletion\": 0.3333333333333333, \"interactionType\": 1, \"questionType\": 1, \"questionId\": \"2_ReviewData\", \"learnToolsVersion\": \"0.3.4\", \"failureMessage\": \"\", \"exceptionClass\": \"\", \"trace\": \"\"}}, \"*\")"
      ],
      "text/plain": [
       "<IPython.core.display.Javascript object>"
      ]
     },
     "metadata": {},
     "output_type": "display_data"
    },
    {
     "data": {
      "text/markdown": [
       "<span style=\"color:#33cc33\">Correct</span>"
      ],
      "text/plain": [
       "Correct"
      ]
     },
     "metadata": {},
     "output_type": "display_data"
    }
   ],
   "source": [
    "# Fill in the line below: Which candy was more popular with survey respondents:\n",
    "# '3 Musketeers' or 'Almond Joy'?  (Please enclose your answer in single quotes.)\n",
    "more_popular = \"3 Musketeers\"\n",
    "\n",
    "# Fill in the line below: Which candy has higher sugar content: 'Air Heads'\n",
    "# or 'Baby Ruth'? (Please enclose your answer in single quotes.)\n",
    "more_sugar = 'Air Heads'\n",
    "\n",
    "# Check your answers\n",
    "step_2.check()"
   ]
  },
  {
   "cell_type": "code",
   "execution_count": 9,
   "id": "bfdecb0a",
   "metadata": {
    "execution": {
     "iopub.execute_input": "2022-06-30T18:52:55.771342Z",
     "iopub.status.busy": "2022-06-30T18:52:55.770774Z",
     "iopub.status.idle": "2022-06-30T18:52:55.773938Z",
     "shell.execute_reply": "2022-06-30T18:52:55.773326Z"
    },
    "papermill": {
     "duration": 0.01976,
     "end_time": "2022-06-30T18:52:55.775863",
     "exception": false,
     "start_time": "2022-06-30T18:52:55.756103",
     "status": "completed"
    },
    "tags": []
   },
   "outputs": [],
   "source": [
    "# Lines below will give you a hint or solution code\n",
    "#step_2.hint()\n",
    "#step_2.solution()"
   ]
  },
  {
   "cell_type": "markdown",
   "id": "129f75df",
   "metadata": {
    "papermill": {
     "duration": 0.013307,
     "end_time": "2022-06-30T18:52:55.802858",
     "exception": false,
     "start_time": "2022-06-30T18:52:55.789551",
     "status": "completed"
    },
    "tags": []
   },
   "source": [
    "## Step 3: The role of sugar\n",
    "\n",
    "Do people tend to prefer candies with higher sugar content?  \n",
    "\n",
    "#### Part A\n",
    "\n",
    "Create a scatter plot that shows the relationship between `'sugarpercent'` (on the horizontal x-axis) and `'winpercent'` (on the vertical y-axis).  _Don't add a regression line just yet -- you'll do that in the next step!_"
   ]
  },
  {
   "cell_type": "code",
   "execution_count": 10,
   "id": "e0358588",
   "metadata": {
    "execution": {
     "iopub.execute_input": "2022-06-30T18:52:55.831775Z",
     "iopub.status.busy": "2022-06-30T18:52:55.831246Z",
     "iopub.status.idle": "2022-06-30T18:52:56.028702Z",
     "shell.execute_reply": "2022-06-30T18:52:56.027623Z"
    },
    "papermill": {
     "duration": 0.214474,
     "end_time": "2022-06-30T18:52:56.030964",
     "exception": false,
     "start_time": "2022-06-30T18:52:55.816490",
     "status": "completed"
    },
    "tags": []
   },
   "outputs": [
    {
     "data": {
      "application/javascript": [
       "parent.postMessage({\"jupyterEvent\": \"custom.exercise_interaction\", \"data\": {\"outcomeType\": 1, \"valueTowardsCompletion\": 0.3333333333333333, \"interactionType\": 1, \"questionType\": 2, \"questionId\": \"3.1_PlotBlueScatter\", \"learnToolsVersion\": \"0.3.4\", \"failureMessage\": \"\", \"exceptionClass\": \"\", \"trace\": \"\"}}, \"*\")"
      ],
      "text/plain": [
       "<IPython.core.display.Javascript object>"
      ]
     },
     "metadata": {},
     "output_type": "display_data"
    },
    {
     "data": {
      "text/markdown": [
       "<span style=\"color:#33cc33\">Correct</span>"
      ],
      "text/plain": [
       "Correct"
      ]
     },
     "metadata": {},
     "output_type": "display_data"
    },
    {
     "data": {
      "image/png": "[encoded data removed]",
      "text/plain": [
       "<Figure size 432x288 with 1 Axes>"
      ]
     },
     "metadata": {
      "needs_background": "light"
     },
     "output_type": "display_data"
    }
   ],
   "source": [
    "# Scatter plot showing the relationship between 'sugarpercent' and 'winpercent'\n",
    "# Your code here\n",
    "sns.scatterplot(x=candy_data['sugarpercent'],y=candy_data['winpercent'])\n",
    "# Check your answer\n",
    "step_3.a.check()"
   ]
  },
  {
   "cell_type": "code",
   "execution_count": 11,
   "id": "bd8962a3",
   "metadata": {
    "execution": {
     "iopub.execute_input": "2022-06-30T18:52:56.050887Z",
     "iopub.status.busy": "2022-06-30T18:52:56.050509Z",
     "iopub.status.idle": "2022-06-30T18:52:56.055337Z",
     "shell.execute_reply": "2022-06-30T18:52:56.054087Z"
    },
    "papermill": {
     "duration": 0.016777,
     "end_time": "2022-06-30T18:52:56.057199",
     "exception": false,
     "start_time": "2022-06-30T18:52:56.040422",
     "status": "completed"
    },
    "tags": []
   },
   "outputs": [],
   "source": [
    "# Lines below will give you a hint or solution code\n",
    "#step_3.a.hint()\n",
    "#step_3.a.solution_plot()"
   ]
  },
  {
   "cell_type": "markdown",
   "id": "0c4af6c4",
   "metadata": {
    "papermill": {
     "duration": 0.008503,
     "end_time": "2022-06-30T18:52:56.074579",
     "exception": false,
     "start_time": "2022-06-30T18:52:56.066076",
     "status": "completed"
    },
    "tags": []
   },
   "source": [
    "#### Part B\n",
    "\n",
    "Does the scatter plot show a **strong** correlation between the two variables?  If so, are candies with more sugar relatively more or less popular with the survey respondents?"
   ]
  },
  {
   "cell_type": "code",
   "execution_count": 12,
   "id": "132859d6",
   "metadata": {
    "execution": {
     "iopub.execute_input": "2022-06-30T18:52:56.093747Z",
     "iopub.status.busy": "2022-06-30T18:52:56.093360Z",
     "iopub.status.idle": "2022-06-30T18:52:56.097575Z",
     "shell.execute_reply": "2022-06-30T18:52:56.096619Z"
    },
    "papermill": {
     "duration": 0.016003,
     "end_time": "2022-06-30T18:52:56.099368",
     "exception": false,
     "start_time": "2022-06-30T18:52:56.083365",
     "status": "completed"
    },
    "tags": []
   },
   "outputs": [],
   "source": [
    "#step_3.b.hint()"
   ]
  },
  {
   "cell_type": "code",
   "execution_count": 13,
   "id": "50a29602",
   "metadata": {
    "execution": {
     "iopub.execute_input": "2022-06-30T18:52:56.118286Z",
     "iopub.status.busy": "2022-06-30T18:52:56.117974Z",
     "iopub.status.idle": "2022-06-30T18:52:56.125592Z",
     "shell.execute_reply": "2022-06-30T18:52:56.124885Z"
    },
    "papermill": {
     "duration": 0.018995,
     "end_time": "2022-06-30T18:52:56.127171",
     "exception": false,
     "start_time": "2022-06-30T18:52:56.108176",
     "status": "completed"
    },
    "tags": []
   },
   "outputs": [
    {
     "data": {
      "application/javascript": [
       "parent.postMessage({\"jupyterEvent\": \"custom.exercise_interaction\", \"data\": {\"interactionType\": 3, \"questionType\": 4, \"questionId\": \"3.2_ThinkBlueScatter\", \"learnToolsVersion\": \"0.3.4\", \"valueTowardsCompletion\": 0.0, \"failureMessage\": \"\", \"exceptionClass\": \"\", \"trace\": \"\", \"outcomeType\": 4}}, \"*\")"
      ],
      "text/plain": [
       "<IPython.core.display.Javascript object>"
      ]
     },
     "metadata": {},
     "output_type": "display_data"
    },
    {
     "data": {
      "text/markdown": [
       "<span style=\"color:#33cc99\">Solution:</span> The scatter plot does not show a strong correlation between the two variables. Since there is no clear relationship between the two variables, this tells us that sugar content does not play a strong role in candy popularity."
      ],
      "text/plain": [
       "Solution: The scatter plot does not show a strong correlation between the two variables. Since there is no clear relationship between the two variables, this tells us that sugar content does not play a strong role in candy popularity."
      ]
     },
     "metadata": {},
     "output_type": "display_data"
    }
   ],
   "source": [
    "# Check your answer (Run this code cell to receive credit!)\n",
    "step_3.b.solution()"
   ]
  },
  {
   "cell_type": "markdown",
   "id": "c591180e",
   "metadata": {
    "papermill": {
     "duration": 0.008769,
     "end_time": "2022-06-30T18:52:56.145005",
     "exception": false,
     "start_time": "2022-06-30T18:52:56.136236",
     "status": "completed"
    },
    "tags": []
   },
   "source": [
    "## Step 4: Take a closer look\n",
    "\n",
    "#### Part A\n",
    "\n",
    "Create the same scatter plot you created in **Step 3**, but now with a regression line!"
   ]
  },
  {
   "cell_type": "code",
   "execution_count": 14,
   "id": "c50e85a1",
   "metadata": {
    "execution": {
     "iopub.execute_input": "2022-06-30T18:52:56.164752Z",
     "iopub.status.busy": "2022-06-30T18:52:56.164117Z",
     "iopub.status.idle": "2022-06-30T18:52:56.442540Z",
     "shell.execute_reply": "2022-06-30T18:52:56.441393Z"
    },
    "papermill": {
     "duration": 0.291069,
     "end_time": "2022-06-30T18:52:56.445056",
     "exception": false,
     "start_time": "2022-06-30T18:52:56.153987",
     "status": "completed"
    },
    "tags": []
   },
   "outputs": [
    {
     "data": {
      "application/javascript": [
       "parent.postMessage({\"jupyterEvent\": \"custom.exercise_interaction\", \"data\": {\"outcomeType\": 1, \"valueTowardsCompletion\": 0.3333333333333333, \"interactionType\": 1, \"questionType\": 2, \"questionId\": \"4.1_PlotBlueReg\", \"learnToolsVersion\": \"0.3.4\", \"failureMessage\": \"\", \"exceptionClass\": \"\", \"trace\": \"\"}}, \"*\")"
      ],
      "text/plain": [
       "<IPython.core.display.Javascript object>"
      ]
     },
     "metadata": {},
     "output_type": "display_data"
    },
    {
     "data": {
      "text/markdown": [
       "<span style=\"color:#33cc33\">Correct</span>"
      ],
      "text/plain": [
       "Correct"
      ]
     },
     "metadata": {},
     "output_type": "display_data"
    },
    {
     "data": {
      "image/png": "[encoded data removed]",
      "text/plain": [
       "<Figure size 432x288 with 1 Axes>"
      ]
     },
     "metadata": {
      "needs_background": "light"
     },
     "output_type": "display_data"
    }
   ],
   "source": [
    "# Scatter plot w/ regression line showing the relationship between 'sugarpercent' and 'winpercent'\n",
    "# Your code here\n",
    "#sns.scatterplot(x=candy_data['sugarpercent'],y=candy_data['winpercent'])\n",
    "\n",
    "sns.regplot(x=candy_data['sugarpercent'],y=candy_data['winpercent'])\n",
    "# Check your answer\n",
    "step_4.a.check()"
   ]
  },
  {
   "cell_type": "code",
   "execution_count": 15,
   "id": "b068cff6",
   "metadata": {
    "execution": {
     "iopub.execute_input": "2022-06-30T18:52:56.478293Z",
     "iopub.status.busy": "2022-06-30T18:52:56.477890Z",
     "iopub.status.idle": "2022-06-30T18:52:56.482383Z",
     "shell.execute_reply": "2022-06-30T18:52:56.481257Z"
    },
    "papermill": {
     "duration": 0.023714,
     "end_time": "2022-06-30T18:52:56.484716",
     "exception": false,
     "start_time": "2022-06-30T18:52:56.461002",
     "status": "completed"
    },
    "tags": []
   },
   "outputs": [],
   "source": [
    "# Lines below will give you a hint or solution code\n",
    "#step_4.a.hint()\n",
    "#step_4.a.solution_plot()"
   ]
  },
  {
   "cell_type": "markdown",
   "id": "9b470b40",
   "metadata": {
    "papermill": {
     "duration": 0.015277,
     "end_time": "2022-06-30T18:52:56.515540",
     "exception": false,
     "start_time": "2022-06-30T18:52:56.500263",
     "status": "completed"
    },
    "tags": []
   },
   "source": [
    "#### Part B\n",
    "\n",
    "According to the plot above, is there a **slight** correlation between `'winpercent'` and `'sugarpercent'`?  What does this tell you about the candy that people tend to prefer?"
   ]
  },
  {
   "cell_type": "code",
   "execution_count": 16,
   "id": "31d2ed5e",
   "metadata": {
    "execution": {
     "iopub.execute_input": "2022-06-30T18:52:56.548356Z",
     "iopub.status.busy": "2022-06-30T18:52:56.547975Z",
     "iopub.status.idle": "2022-06-30T18:52:56.552726Z",
     "shell.execute_reply": "2022-06-30T18:52:56.551610Z"
    },
    "papermill": {
     "duration": 0.024073,
     "end_time": "2022-06-30T18:52:56.555137",
     "exception": false,
     "start_time": "2022-06-30T18:52:56.531064",
     "status": "completed"
    },
    "tags": []
   },
   "outputs": [],
   "source": [
    "#step_4.b.hint()"
   ]
  },
  {
   "cell_type": "code",
   "execution_count": 17,
   "id": "1f73f8f1",
   "metadata": {
    "execution": {
     "iopub.execute_input": "2022-06-30T18:52:56.587682Z",
     "iopub.status.busy": "2022-06-30T18:52:56.587368Z",
     "iopub.status.idle": "2022-06-30T18:52:56.595944Z",
     "shell.execute_reply": "2022-06-30T18:52:56.594848Z"
    },
    "papermill": {
     "duration": 0.027583,
     "end_time": "2022-06-30T18:52:56.598235",
     "exception": false,
     "start_time": "2022-06-30T18:52:56.570652",
     "status": "completed"
    },
    "tags": []
   },
   "outputs": [
    {
     "data": {
      "application/javascript": [
       "parent.postMessage({\"jupyterEvent\": \"custom.exercise_interaction\", \"data\": {\"interactionType\": 3, \"questionType\": 4, \"questionId\": \"4.2_ThinkBlueReg\", \"learnToolsVersion\": \"0.3.4\", \"valueTowardsCompletion\": 0.0, \"failureMessage\": \"\", \"exceptionClass\": \"\", \"trace\": \"\", \"outcomeType\": 4}}, \"*\")"
      ],
      "text/plain": [
       "<IPython.core.display.Javascript object>"
      ]
     },
     "metadata": {},
     "output_type": "display_data"
    },
    {
     "data": {
      "text/markdown": [
       "<span style=\"color:#33cc99\">Solution:</span> Since the regression line has a slightly positive slope, this tells us that there is a slightly positive correlation between `'winpercent'` and `'sugarpercent'`. Thus, people have a slight preference for candies containing relatively more sugar."
      ],
      "text/plain": [
       "Solution: Since the regression line has a slightly positive slope, this tells us that there is a slightly positive correlation between `'winpercent'` and `'sugarpercent'`. Thus, people have a slight preference for candies containing relatively more sugar."
      ]
     },
     "metadata": {},
     "output_type": "display_data"
    }
   ],
   "source": [
    "# Check your answer (Run this code cell to receive credit!)\n",
    "step_4.b.solution()"
   ]
  },
  {
   "cell_type": "markdown",
   "id": "083dbde3",
   "metadata": {
    "papermill": {
     "duration": 0.015888,
     "end_time": "2022-06-30T18:52:56.629966",
     "exception": false,
     "start_time": "2022-06-30T18:52:56.614078",
     "status": "completed"
    },
    "tags": []
   },
   "source": [
    "## Step 5: Chocolate!\n",
    "\n",
    "In the code cell below, create a scatter plot to show the relationship between `'pricepercent'` (on the horizontal x-axis) and `'winpercent'` (on the vertical y-axis). Use the `'chocolate'` column to color-code the points.  _Don't add any regression lines just yet -- you'll do that in the next step!_"
   ]
  },
  {
   "cell_type": "code",
   "execution_count": 18,
   "id": "b7db4530",
   "metadata": {
    "execution": {
     "iopub.execute_input": "2022-06-30T18:52:56.662960Z",
     "iopub.status.busy": "2022-06-30T18:52:56.662581Z",
     "iopub.status.idle": "2022-06-30T18:52:56.889524Z",
     "shell.execute_reply": "2022-06-30T18:52:56.888602Z"
    },
    "papermill": {
     "duration": 0.246035,
     "end_time": "2022-06-30T18:52:56.891696",
     "exception": false,
     "start_time": "2022-06-30T18:52:56.645661",
     "status": "completed"
    },
    "tags": []
   },
   "outputs": [
    {
     "data": {
      "application/javascript": [
       "parent.postMessage({\"jupyterEvent\": \"custom.exercise_interaction\", \"data\": {\"outcomeType\": 1, \"valueTowardsCompletion\": 0.3333333333333333, \"interactionType\": 1, \"questionType\": 2, \"questionId\": \"5_ColorScatter\", \"learnToolsVersion\": \"0.3.4\", \"failureMessage\": \"\", \"exceptionClass\": \"\", \"trace\": \"\"}}, \"*\")"
      ],
      "text/plain": [
       "<IPython.core.display.Javascript object>"
      ]
     },
     "metadata": {},
     "output_type": "display_data"
    },
    {
     "data": {
      "text/markdown": [
       "<span style=\"color:#33cc33\">Correct</span>"
      ],
      "text/plain": [
       "Correct"
      ]
     },
     "metadata": {},
     "output_type": "display_data"
    },
    {
     "data": {
      "image/png": "[encoded data removed]",
      "text/plain": [
       "<Figure size 432x288 with 1 Axes>"
      ]
     },
     "metadata": {
      "needs_background": "light"
     },
     "output_type": "display_data"
    }
   ],
   "source": [
    "# Scatter plot showing the relationship between 'pricepercent', 'winpercent', and 'chocolate'\n",
    " # Your code here\n",
    "sns.scatterplot(x=candy_data['pricepercent'],y=candy_data['winpercent'],hue=candy_data['chocolate'])\n",
    "\n",
    "# Check your answer\n",
    "step_5.check()"
   ]
  },
  {
   "cell_type": "code",
   "execution_count": 19,
   "id": "b11d438b",
   "metadata": {
    "execution": {
     "iopub.execute_input": "2022-06-30T18:52:56.926395Z",
     "iopub.status.busy": "2022-06-30T18:52:56.926047Z",
     "iopub.status.idle": "2022-06-30T18:52:56.930529Z",
     "shell.execute_reply": "2022-06-30T18:52:56.929551Z"
    },
    "papermill": {
     "duration": 0.024176,
     "end_time": "2022-06-30T18:52:56.932563",
     "exception": false,
     "start_time": "2022-06-30T18:52:56.908387",
     "status": "completed"
    },
    "tags": []
   },
   "outputs": [],
   "source": [
    "# Lines below will give you a hint or solution code\n",
    "#step_5.hint()\n",
    "#step_5.solution_plot()"
   ]
  },
  {
   "cell_type": "markdown",
   "id": "5cfe96c2",
   "metadata": {
    "papermill": {
     "duration": 0.016442,
     "end_time": "2022-06-30T18:52:56.965775",
     "exception": false,
     "start_time": "2022-06-30T18:52:56.949333",
     "status": "completed"
    },
    "tags": []
   },
   "source": [
    "Can you see any interesting patterns in the scatter plot?  We'll investigate this plot further  by adding regression lines in the next step!\n",
    "\n",
    "## Step 6: Investigate chocolate\n",
    "\n",
    "#### Part A\n",
    "\n",
    "Create the same scatter plot you created in **Step 5**, but now with two regression lines, corresponding to (1) chocolate candies and (2) candies without chocolate."
   ]
  },
  {
   "cell_type": "code",
   "execution_count": 20,
   "id": "febbaa45",
   "metadata": {
    "execution": {
     "iopub.execute_input": "2022-06-30T18:52:57.001321Z",
     "iopub.status.busy": "2022-06-30T18:52:57.000890Z",
     "iopub.status.idle": "2022-06-30T18:52:57.568082Z",
     "shell.execute_reply": "2022-06-30T18:52:57.566959Z"
    },
    "papermill": {
     "duration": 0.587753,
     "end_time": "2022-06-30T18:52:57.570329",
     "exception": false,
     "start_time": "2022-06-30T18:52:56.982576",
     "status": "completed"
    },
    "tags": []
   },
   "outputs": [
    {
     "data": {
      "application/javascript": [
       "parent.postMessage({\"jupyterEvent\": \"custom.exercise_interaction\", \"data\": {\"outcomeType\": 1, \"valueTowardsCompletion\": 0.3333333333333333, \"interactionType\": 1, \"questionType\": 2, \"questionId\": \"6.1_PlotColorReg\", \"learnToolsVersion\": \"0.3.4\", \"failureMessage\": \"\", \"exceptionClass\": \"\", \"trace\": \"\"}}, \"*\")"
      ],
      "text/plain": [
       "<IPython.core.display.Javascript object>"
      ]
     },
     "metadata": {},
     "output_type": "display_data"
    },
    {
     "data": {
      "text/markdown": [
       "<span style=\"color:#33cc33\">Correct</span>"
      ],
      "text/plain": [
       "Correct"
      ]
     },
     "metadata": {},
     "output_type": "display_data"
    },
    {
     "data": {
      "image/png": "[encoded data removed]",
      "text/plain": [
       "<Figure size 416.375x360 with 1 Axes>"
      ]
     },
     "metadata": {
      "needs_background": "light"
     },
     "output_type": "display_data"
    }
   ],
   "source": [
    "# Color-coded scatter plot w/ regression lines\n",
    "# Your code here\n",
    "\n",
    "sns.lmplot(x=\"pricepercent\", y=\"winpercent\", hue=\"chocolate\", data=candy_data)\n",
    "# Check your answer\n",
    "step_6.a.check()"
   ]
  },
  {
   "cell_type": "code",
   "execution_count": 21,
   "id": "124e9ac0",
   "metadata": {
    "execution": {
     "iopub.execute_input": "2022-06-30T18:52:57.607509Z",
     "iopub.status.busy": "2022-06-30T18:52:57.606363Z",
     "iopub.status.idle": "2022-06-30T18:52:57.610411Z",
     "shell.execute_reply": "2022-06-30T18:52:57.609602Z"
    },
    "papermill": {
     "duration": 0.025249,
     "end_time": "2022-06-30T18:52:57.613086",
     "exception": false,
     "start_time": "2022-06-30T18:52:57.587837",
     "status": "completed"
    },
    "tags": []
   },
   "outputs": [],
   "source": [
    "# Lines below will give you a hint or solution code\n",
    "#step_6.a.hint()\n",
    "#step_6.a.solution_plot()"
   ]
  },
  {
   "cell_type": "markdown",
   "id": "9dea3154",
   "metadata": {
    "papermill": {
     "duration": 0.017289,
     "end_time": "2022-06-30T18:52:57.648564",
     "exception": false,
     "start_time": "2022-06-30T18:52:57.631275",
     "status": "completed"
    },
    "tags": []
   },
   "source": [
    "#### Part B\n",
    "\n",
    "Using the regression lines, what conclusions can you draw about the effects of chocolate and price on candy popularity?"
   ]
  },
  {
   "cell_type": "code",
   "execution_count": 22,
   "id": "91aabfe2",
   "metadata": {
    "execution": {
     "iopub.execute_input": "2022-06-30T18:52:57.684810Z",
     "iopub.status.busy": "2022-06-30T18:52:57.684452Z",
     "iopub.status.idle": "2022-06-30T18:52:57.689932Z",
     "shell.execute_reply": "2022-06-30T18:52:57.688951Z"
    },
    "papermill": {
     "duration": 0.026025,
     "end_time": "2022-06-30T18:52:57.691967",
     "exception": false,
     "start_time": "2022-06-30T18:52:57.665942",
     "status": "completed"
    },
    "tags": []
   },
   "outputs": [],
   "source": [
    "#step_6.b.hint()"
   ]
  },
  {
   "cell_type": "code",
   "execution_count": 23,
   "id": "4c6bde17",
   "metadata": {
    "execution": {
     "iopub.execute_input": "2022-06-30T18:52:57.716011Z",
     "iopub.status.busy": "2022-06-30T18:52:57.715583Z",
     "iopub.status.idle": "2022-06-30T18:52:57.724864Z",
     "shell.execute_reply": "2022-06-30T18:52:57.723769Z"
    },
    "papermill": {
     "duration": 0.023331,
     "end_time": "2022-06-30T18:52:57.726732",
     "exception": false,
     "start_time": "2022-06-30T18:52:57.703401",
     "status": "completed"
    },
    "tags": []
   },
   "outputs": [
    {
     "data": {
      "application/javascript": [
       "parent.postMessage({\"jupyterEvent\": \"custom.exercise_interaction\", \"data\": {\"interactionType\": 3, \"questionType\": 4, \"questionId\": \"6.2_ThinkColorReg\", \"learnToolsVersion\": \"0.3.4\", \"valueTowardsCompletion\": 0.0, \"failureMessage\": \"\", \"exceptionClass\": \"\", \"trace\": \"\", \"outcomeType\": 4}}, \"*\")"
      ],
      "text/plain": [
       "<IPython.core.display.Javascript object>"
      ]
     },
     "metadata": {},
     "output_type": "display_data"
    },
    {
     "data": {
      "text/markdown": [
       "<span style=\"color:#33cc99\">Solution:</span> We'll begin with the regression line for chocolate candies. Since this line has a slightly positive slope, we can say that more expensive chocolate candies tend to be more popular (than relatively cheaper chocolate candies).  Likewise, since the regression line for candies without chocolate has a negative slope, we can say that if candies don't contain chocolate, they tend to be more popular when they are cheaper.  One important note, however, is that the dataset is quite small -- so we shouldn't invest too much trust in these patterns!  To inspire more confidence in the results, we should add more candies to the dataset."
      ],
      "text/plain": [
       "Solution: We'll begin with the regression line for chocolate candies. Since this line has a slightly positive slope, we can say that more expensive chocolate candies tend to be more popular (than relatively cheaper chocolate candies).  Likewise, since the regression line for candies without chocolate has a negative slope, we can say that if candies don't contain chocolate, they tend to be more popular when they are cheaper.  One important note, however, is that the dataset is quite small -- so we shouldn't invest too much trust in these patterns!  To inspire more confidence in the results, we should add more candies to the dataset."
      ]
     },
     "metadata": {},
     "output_type": "display_data"
    }
   ],
   "source": [
    "# Check your answer (Run this code cell to receive credit!)\n",
    "step_6.b.solution()"
   ]
  },
  {
   "cell_type": "markdown",
   "id": "ffc8d7b6",
   "metadata": {
    "papermill": {
     "duration": 0.010794,
     "end_time": "2022-06-30T18:52:57.748631",
     "exception": false,
     "start_time": "2022-06-30T18:52:57.737837",
     "status": "completed"
    },
    "tags": []
   },
   "source": [
    "## Step 7: Everybody loves chocolate.\n",
    "\n",
    "#### Part A\n",
    "\n",
    "Create a categorical scatter plot to highlight the relationship between `'chocolate'` and `'winpercent'`.  Put `'chocolate'` on the (horizontal) x-axis, and `'winpercent'` on the (vertical) y-axis."
   ]
  },
  {
   "cell_type": "code",
   "execution_count": 24,
   "id": "4686c8dd",
   "metadata": {
    "execution": {
     "iopub.execute_input": "2022-06-30T18:52:57.773077Z",
     "iopub.status.busy": "2022-06-30T18:52:57.771969Z",
     "iopub.status.idle": "2022-06-30T18:52:57.917715Z",
     "shell.execute_reply": "2022-06-30T18:52:57.916655Z"
    },
    "papermill": {
     "duration": 0.160369,
     "end_time": "2022-06-30T18:52:57.920140",
     "exception": false,
     "start_time": "2022-06-30T18:52:57.759771",
     "status": "completed"
    },
    "tags": []
   },
   "outputs": [
    {
     "data": {
      "application/javascript": [
       "parent.postMessage({\"jupyterEvent\": \"custom.exercise_interaction\", \"data\": {\"outcomeType\": 1, \"valueTowardsCompletion\": 0.3333333333333333, \"interactionType\": 1, \"questionType\": 2, \"questionId\": \"7.1_PlotSwarm\", \"learnToolsVersion\": \"0.3.4\", \"failureMessage\": \"\", \"exceptionClass\": \"\", \"trace\": \"\"}}, \"*\")"
      ],
      "text/plain": [
       "<IPython.core.display.Javascript object>"
      ]
     },
     "metadata": {},
     "output_type": "display_data"
    },
    {
     "data": {
      "text/markdown": [
       "<span style=\"color:#33cc33\">Correct</span>"
      ],
      "text/plain": [
       "Correct"
      ]
     },
     "metadata": {},
     "output_type": "display_data"
    },
    {
     "data": {
      "image/png": "[encoded data removed]",
      "text/plain": [
       "<Figure size 432x288 with 1 Axes>"
      ]
     },
     "metadata": {
      "needs_background": "light"
     },
     "output_type": "display_data"
    }
   ],
   "source": [
    "# Scatter plot showing the relationship between 'chocolate' and 'winpercen# Your code here\n",
    "sns.swarmplot(x=candy_data['chocolate'],\n",
    "              y=candy_data['winpercent'])\n",
    "# Check your answer\n",
    "step_7.a.check()"
   ]
  },
  {
   "cell_type": "code",
   "execution_count": 25,
   "id": "30bf63d5",
   "metadata": {
    "execution": {
     "iopub.execute_input": "2022-06-30T18:52:57.962771Z",
     "iopub.status.busy": "2022-06-30T18:52:57.961621Z",
     "iopub.status.idle": "2022-06-30T18:52:57.966695Z",
     "shell.execute_reply": "2022-06-30T18:52:57.965559Z"
    },
    "papermill": {
     "duration": 0.026705,
     "end_time": "2022-06-30T18:52:57.968575",
     "exception": false,
     "start_time": "2022-06-30T18:52:57.941870",
     "status": "completed"
    },
    "tags": []
   },
   "outputs": [],
   "source": [
    "# Lines below will give you a hint or solution code\n",
    "#step_7.a.hint()\n",
    "#step_7.a.solution_plot()"
   ]
  },
  {
   "cell_type": "markdown",
   "id": "d08596c9",
   "metadata": {
    "papermill": {
     "duration": 0.011321,
     "end_time": "2022-06-30T18:52:57.991732",
     "exception": false,
     "start_time": "2022-06-30T18:52:57.980411",
     "status": "completed"
    },
    "tags": []
   },
   "source": [
    "#### Part B\n",
    "\n",
    "You decide to dedicate a section of your report to the fact that chocolate candies tend to be more popular than candies without chocolate.  Which plot is more appropriate to tell this story: the plot from **Step 6**, or the plot from **Step 7**?"
   ]
  },
  {
   "cell_type": "code",
   "execution_count": 26,
   "id": "5ed6b1c7",
   "metadata": {
    "execution": {
     "iopub.execute_input": "2022-06-30T18:52:58.020693Z",
     "iopub.status.busy": "2022-06-30T18:52:58.020077Z",
     "iopub.status.idle": "2022-06-30T18:52:58.024197Z",
     "shell.execute_reply": "2022-06-30T18:52:58.022979Z"
    },
    "papermill": {
     "duration": 0.023543,
     "end_time": "2022-06-30T18:52:58.026809",
     "exception": false,
     "start_time": "2022-06-30T18:52:58.003266",
     "status": "completed"
    },
    "tags": []
   },
   "outputs": [],
   "source": [
    "#step_7.b.hint()"
   ]
  },
  {
   "cell_type": "code",
   "execution_count": 27,
   "id": "9b84ddcb",
   "metadata": {
    "execution": {
     "iopub.execute_input": "2022-06-30T18:52:58.067045Z",
     "iopub.status.busy": "2022-06-30T18:52:58.066607Z",
     "iopub.status.idle": "2022-06-30T18:52:58.073768Z",
     "shell.execute_reply": "2022-06-30T18:52:58.073053Z"
    },
    "papermill": {
     "duration": 0.029865,
     "end_time": "2022-06-30T18:52:58.076067",
     "exception": false,
     "start_time": "2022-06-30T18:52:58.046202",
     "status": "completed"
    },
    "tags": []
   },
   "outputs": [
    {
     "data": {
      "application/javascript": [
       "parent.postMessage({\"jupyterEvent\": \"custom.exercise_interaction\", \"data\": {\"interactionType\": 3, \"questionType\": 4, \"questionId\": \"7.2_ThinkSwarm\", \"learnToolsVersion\": \"0.3.4\", \"valueTowardsCompletion\": 0.0, \"failureMessage\": \"\", \"exceptionClass\": \"\", \"trace\": \"\", \"outcomeType\": 4}}, \"*\")"
      ],
      "text/plain": [
       "<IPython.core.display.Javascript object>"
      ]
     },
     "metadata": {},
     "output_type": "display_data"
    },
    {
     "data": {
      "text/markdown": [
       "<span style=\"color:#33cc99\">Solution:</span> In this case, the categorical scatter plot from **Step 7** is the more appropriate plot. While both plots tell the desired story, the plot from **Step 6** conveys far more information that could distract from the main point."
      ],
      "text/plain": [
       "Solution: In this case, the categorical scatter plot from **Step 7** is the more appropriate plot. While both plots tell the desired story, the plot from **Step 6** conveys far more information that could distract from the main point."
      ]
     },
     "metadata": {},
     "output_type": "display_data"
    }
   ],
   "source": [
    "# Check your answer (Run this code cell to receive credit!)\n",
    "step_7.b.solution()"
   ]
  },
  {
   "cell_type": "markdown",
   "id": "b3f91cdb",
   "metadata": {
    "papermill": {
     "duration": 0.018575,
     "end_time": "2022-06-30T18:52:58.113510",
     "exception": false,
     "start_time": "2022-06-30T18:52:58.094935",
     "status": "completed"
    },
    "tags": []
   },
   "source": [
    "## Keep going\n",
    "\n",
    "Explore **[histograms and density plots](https://www.kaggle.com/alexisbcook/distributions)**."
   ]
  },
  {
   "cell_type": "markdown",
   "id": "d8cbc0ee",
   "metadata": {
    "papermill": {
     "duration": 0.0185,
     "end_time": "2022-06-30T18:52:58.150765",
     "exception": false,
     "start_time": "2022-06-30T18:52:58.132265",
     "status": "completed"
    },
    "tags": []
   },
   "source": [
    "---\n",
    "\n",
    "\n",
    "\n",
    "\n",
    "*Have questions or comments? Visit the [course discussion forum](https://www.kaggle.com/learn/data-visualization/discussion) to chat with other learners.*"
   ]
  }
 ],
 "metadata": {
  "kernelspec": {
   "display_name": "Python 3",
   "language": "python",
   "name": "python3"
  },
  "language_info": {
   "codemirror_mode": {
    "name": "ipython",
    "version": 3
   },
   "file_extension": ".py",
   "mimetype": "text/x-python",
   "name": "python",
   "nbconvert_exporter": "python",
   "pygments_lexer": "ipython3",
   "version": "3.7.12"
  },
  "papermill": {
   "default_parameters": {},
   "duration": 14.881975,
   "end_time": "2022-06-30T18:52:58.890786",
   "environment_variables": {},
   "exception": null,
   "input_path": "__notebook__.ipynb",
   "output_path": "__notebook__.ipynb",
   "parameters": {},
   "start_time": "2022-06-30T18:52:44.008811",
   "version": "2.3.4"
  }
 },
 "nbformat": 4,
 "nbformat_minor": 5
}
