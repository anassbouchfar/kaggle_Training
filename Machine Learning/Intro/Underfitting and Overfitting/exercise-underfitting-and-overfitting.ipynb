{
 "cells": [
  {
   "cell_type": "markdown",
   "id": "de2e5229",
   "metadata": {
    "papermill": {
     "duration": 0.003858,
     "end_time": "2022-07-03T02:58:14.656927",
     "exception": false,
     "start_time": "2022-07-03T02:58:14.653069",
     "status": "completed"
    },
    "tags": []
   },
   "source": [
    "**This notebook is an exercise in the [Introduction to Machine Learning](https://www.kaggle.com/learn/intro-to-machine-learning) course.  You can reference the tutorial at [this link](https://www.kaggle.com/dansbecker/underfitting-and-overfitting).**\n",
    "\n",
    "---\n"
   ]
  },
  {
   "cell_type": "markdown",
   "id": "69955831",
   "metadata": {
    "papermill": {
     "duration": 0.002771,
     "end_time": "2022-07-03T02:58:14.662980",
     "exception": false,
     "start_time": "2022-07-03T02:58:14.660209",
     "status": "completed"
    },
    "tags": []
   },
   "source": [
    "## Recap\n",
    "You've built your first model, and now it's time to optimize the size of the tree to make better predictions. Run this cell to set up your coding environment where the previous step left off."
   ]
  },
  {
   "cell_type": "code",
   "execution_count": 1,
   "id": "29f80232",
   "metadata": {
    "execution": {
     "iopub.execute_input": "2022-07-03T02:58:14.671104Z",
     "iopub.status.busy": "2022-07-03T02:58:14.669944Z",
     "iopub.status.idle": "2022-07-03T02:58:16.232709Z",
     "shell.execute_reply": "2022-07-03T02:58:16.231369Z"
    },
    "papermill": {
     "duration": 1.570088,
     "end_time": "2022-07-03T02:58:16.235860",
     "exception": false,
     "start_time": "2022-07-03T02:58:14.665772",
     "status": "completed"
    },
    "tags": []
   },
   "outputs": [
    {
     "name": "stdout",
     "output_type": "stream",
     "text": [
      "Validation MAE: 29,653\n",
      "\n",
      "Setup complete\n"
     ]
    }
   ],
   "source": [
    "# Code you have previously used to load data\n",
    "import pandas as pd\n",
    "from sklearn.metrics import mean_absolute_error\n",
    "from sklearn.model_selection import train_test_split\n",
    "from sklearn.tree import DecisionTreeRegressor\n",
    "\n",
    "\n",
    "# Path of the file to read\n",
    "iowa_file_path = '../input/home-data-for-ml-course/train.csv'\n",
    "\n",
    "home_data = pd.read_csv(iowa_file_path)\n",
    "# Create target object and call it y\n",
    "y = home_data.SalePrice\n",
    "# Create X\n",
    "features = ['LotArea', 'YearBuilt', '1stFlrSF', '2ndFlrSF', 'FullBath', 'BedroomAbvGr', 'TotRmsAbvGrd']\n",
    "X = home_data[features]\n",
    "\n",
    "# Split into validation and training data\n",
    "train_X, val_X, train_y, val_y = train_test_split(X, y, random_state=1)\n",
    "\n",
    "# Specify Model\n",
    "iowa_model = DecisionTreeRegressor(random_state=1)\n",
    "# Fit Model\n",
    "iowa_model.fit(train_X, train_y)\n",
    "\n",
    "# Make validation predictions and calculate mean absolute error\n",
    "val_predictions = iowa_model.predict(val_X)\n",
    "val_mae = mean_absolute_error(val_predictions, val_y)\n",
    "print(\"Validation MAE: {:,.0f}\".format(val_mae))\n",
    "\n",
    "# Set up code checking\n",
    "from learntools.core import binder\n",
    "binder.bind(globals())\n",
    "from learntools.machine_learning.ex5 import *\n",
    "print(\"\\nSetup complete\")"
   ]
  },
  {
   "cell_type": "markdown",
   "id": "5b4139b9",
   "metadata": {
    "papermill": {
     "duration": 0.002774,
     "end_time": "2022-07-03T02:58:16.242722",
     "exception": false,
     "start_time": "2022-07-03T02:58:16.239948",
     "status": "completed"
    },
    "tags": []
   },
   "source": [
    "# Exercises\n",
    "You could write the function `get_mae` yourself. For now, we'll supply it. This is the same function you read about in the previous lesson. Just run the cell below."
   ]
  },
  {
   "cell_type": "code",
   "execution_count": 2,
   "id": "eec28e23",
   "metadata": {
    "execution": {
     "iopub.execute_input": "2022-07-03T02:58:16.250600Z",
     "iopub.status.busy": "2022-07-03T02:58:16.249942Z",
     "iopub.status.idle": "2022-07-03T02:58:16.255644Z",
     "shell.execute_reply": "2022-07-03T02:58:16.254744Z"
    },
    "papermill": {
     "duration": 0.012034,
     "end_time": "2022-07-03T02:58:16.257735",
     "exception": false,
     "start_time": "2022-07-03T02:58:16.245701",
     "status": "completed"
    },
    "tags": []
   },
   "outputs": [],
   "source": [
    "def get_mae(max_leaf_nodes, train_X, val_X, train_y, val_y):\n",
    "    model = DecisionTreeRegressor(max_leaf_nodes=max_leaf_nodes, random_state=0)\n",
    "    model.fit(train_X, train_y)\n",
    "    preds_val = model.predict(val_X)\n",
    "    mae = mean_absolute_error(val_y, preds_val)\n",
    "    return(mae)"
   ]
  },
  {
   "cell_type": "markdown",
   "id": "4544f764",
   "metadata": {
    "papermill": {
     "duration": 0.002771,
     "end_time": "2022-07-03T02:58:16.263573",
     "exception": false,
     "start_time": "2022-07-03T02:58:16.260802",
     "status": "completed"
    },
    "tags": []
   },
   "source": [
    "## Step 1: Compare Different Tree Sizes\n",
    "Write a loop that tries the following values for *max_leaf_nodes* from a set of possible values.\n",
    "\n",
    "Call the *get_mae* function on each value of max_leaf_nodes. Store the output in some way that allows you to select the value of `max_leaf_nodes` that gives the most accurate model on your data."
   ]
  },
  {
   "cell_type": "code",
   "execution_count": 3,
   "id": "e0a88eb1",
   "metadata": {
    "execution": {
     "iopub.execute_input": "2022-07-03T02:58:16.271238Z",
     "iopub.status.busy": "2022-07-03T02:58:16.270882Z",
     "iopub.status.idle": "2022-07-03T02:58:16.317384Z",
     "shell.execute_reply": "2022-07-03T02:58:16.316183Z"
    },
    "papermill": {
     "duration": 0.05291,
     "end_time": "2022-07-03T02:58:16.319503",
     "exception": false,
     "start_time": "2022-07-03T02:58:16.266593",
     "status": "completed"
    },
    "tags": []
   },
   "outputs": [
    {
     "data": {
      "application/javascript": [
       "parent.postMessage({\"jupyterEvent\": \"custom.exercise_interaction\", \"data\": {\"outcomeType\": 1, \"valueTowardsCompletion\": 0.5, \"interactionType\": 1, \"questionType\": 1, \"questionId\": \"1_BestTreeSize\", \"learnToolsVersion\": \"0.3.4\", \"failureMessage\": \"\", \"exceptionClass\": \"\", \"trace\": \"\"}}, \"*\")"
      ],
      "text/plain": [
       "<IPython.core.display.Javascript object>"
      ]
     },
     "metadata": {},
     "output_type": "display_data"
    },
    {
     "data": {
      "text/markdown": [
       "<span style=\"color:#33cc33\">Correct</span>"
      ],
      "text/plain": [
       "Correct"
      ]
     },
     "metadata": {},
     "output_type": "display_data"
    }
   ],
   "source": [
    "candidate_max_leaf_nodes = [5, 25, 50, 100, 250, 500]\n",
    "# Write loop to find the ideal tree size from candidate_max_leaf_nodes\n",
    "#scores = {leaf_size: get_mae(leaf_size, train_X, val_X, train_y, val_y) for leaf_size in candidate_max_leaf_nodes}\n",
    "#best_tree_size = min(scores, key=scores.get)\n",
    "all_mae={}\n",
    "for max_leaf_node in candidate_max_leaf_nodes:\n",
    "    all_mae[max_leaf_node]=get_mae(max_leaf_node, train_X, val_X, train_y, val_y)\n",
    "# Store the best value of max_leaf_nodes (it will be either 5, 25, 50, 100, 250 or 500)\n",
    "best_tree_size = min(all_mae,key=all_mae.get)\n",
    "\n",
    "# Check your answer\n",
    "step_1.check()"
   ]
  },
  {
   "cell_type": "code",
   "execution_count": 4,
   "id": "c533ad47",
   "metadata": {
    "execution": {
     "iopub.execute_input": "2022-07-03T02:58:16.327639Z",
     "iopub.status.busy": "2022-07-03T02:58:16.327098Z",
     "iopub.status.idle": "2022-07-03T02:58:16.331418Z",
     "shell.execute_reply": "2022-07-03T02:58:16.330240Z"
    },
    "papermill": {
     "duration": 0.011274,
     "end_time": "2022-07-03T02:58:16.333944",
     "exception": false,
     "start_time": "2022-07-03T02:58:16.322670",
     "status": "completed"
    },
    "tags": []
   },
   "outputs": [],
   "source": [
    "# The lines below will show you a hint or the solution.\n",
    "# step_1.hint() \n",
    "#step_1.solution()"
   ]
  },
  {
   "cell_type": "markdown",
   "id": "9ba54241",
   "metadata": {
    "papermill": {
     "duration": 0.003016,
     "end_time": "2022-07-03T02:58:16.340149",
     "exception": false,
     "start_time": "2022-07-03T02:58:16.337133",
     "status": "completed"
    },
    "tags": []
   },
   "source": [
    "## Step 2: Fit Model Using All Data\n",
    "You know the best tree size. If you were going to deploy this model in practice, you would make it even more accurate by using all of the data and keeping that tree size.  That is, you don't need to hold out the validation data now that you've made all your modeling decisions."
   ]
  },
  {
   "cell_type": "code",
   "execution_count": 5,
   "id": "9859ad05",
   "metadata": {
    "execution": {
     "iopub.execute_input": "2022-07-03T02:58:16.348469Z",
     "iopub.status.busy": "2022-07-03T02:58:16.347744Z",
     "iopub.status.idle": "2022-07-03T02:58:16.365426Z",
     "shell.execute_reply": "2022-07-03T02:58:16.364285Z"
    },
    "papermill": {
     "duration": 0.025896,
     "end_time": "2022-07-03T02:58:16.369060",
     "exception": false,
     "start_time": "2022-07-03T02:58:16.343164",
     "status": "completed"
    },
    "tags": []
   },
   "outputs": [
    {
     "data": {
      "application/javascript": [
       "parent.postMessage({\"jupyterEvent\": \"custom.exercise_interaction\", \"data\": {\"outcomeType\": 1, \"valueTowardsCompletion\": 0.5, \"interactionType\": 1, \"questionType\": 2, \"questionId\": \"2_FitModelWithAllData\", \"learnToolsVersion\": \"0.3.4\", \"failureMessage\": \"\", \"exceptionClass\": \"\", \"trace\": \"\"}}, \"*\")"
      ],
      "text/plain": [
       "<IPython.core.display.Javascript object>"
      ]
     },
     "metadata": {},
     "output_type": "display_data"
    },
    {
     "data": {
      "text/markdown": [
       "<span style=\"color:#33cc33\">Correct</span>"
      ],
      "text/plain": [
       "Correct"
      ]
     },
     "metadata": {},
     "output_type": "display_data"
    }
   ],
   "source": [
    "# Fill in argument to make optimal size and uncomment\n",
    "final_model = DecisionTreeRegressor(max_leaf_nodes=best_tree_size)\n",
    "\n",
    "# fit the final model and uncomment the next two lines\n",
    "final_model.fit(X, y)\n",
    "\n",
    "# Check your answer\n",
    "step_2.check()"
   ]
  },
  {
   "cell_type": "code",
   "execution_count": 6,
   "id": "5eec2b5b",
   "metadata": {
    "execution": {
     "iopub.execute_input": "2022-07-03T02:58:16.377319Z",
     "iopub.status.busy": "2022-07-03T02:58:16.376934Z",
     "iopub.status.idle": "2022-07-03T02:58:16.380929Z",
     "shell.execute_reply": "2022-07-03T02:58:16.379825Z"
    },
    "papermill": {
     "duration": 0.010659,
     "end_time": "2022-07-03T02:58:16.383165",
     "exception": false,
     "start_time": "2022-07-03T02:58:16.372506",
     "status": "completed"
    },
    "tags": []
   },
   "outputs": [],
   "source": [
    "# step_2.hint()\n",
    "#step_2.solution()"
   ]
  },
  {
   "cell_type": "markdown",
   "id": "3a33d44b",
   "metadata": {
    "papermill": {
     "duration": 0.003002,
     "end_time": "2022-07-03T02:58:16.389590",
     "exception": false,
     "start_time": "2022-07-03T02:58:16.386588",
     "status": "completed"
    },
    "tags": []
   },
   "source": [
    "You've tuned this model and improved your results. But we are still using Decision Tree models, which are not very sophisticated by modern machine learning standards. In the next step you will learn to use Random Forests to improve your models even more.\n",
    "\n",
    "# Keep Going\n",
    "\n",
    "You are ready for **[Random Forests](https://www.kaggle.com/dansbecker/random-forests).**\n"
   ]
  },
  {
   "cell_type": "markdown",
   "id": "3587a125",
   "metadata": {
    "papermill": {
     "duration": 0.002944,
     "end_time": "2022-07-03T02:58:16.395838",
     "exception": false,
     "start_time": "2022-07-03T02:58:16.392894",
     "status": "completed"
    },
    "tags": []
   },
   "source": [
    "---\n",
    "\n",
    "\n",
    "\n",
    "\n",
    "*Have questions or comments? Visit the [course discussion forum](https://www.kaggle.com/learn/intro-to-machine-learning/discussion) to chat with other learners.*"
   ]
  }
 ],
 "metadata": {
  "kernelspec": {
   "display_name": "Python 3",
   "language": "python",
   "name": "python3"
  },
  "language_info": {
   "codemirror_mode": {
    "name": "ipython",
    "version": 3
   },
   "file_extension": ".py",
   "mimetype": "text/x-python",
   "name": "python",
   "nbconvert_exporter": "python",
   "pygments_lexer": "ipython3",
   "version": "3.7.12"
  },
  "papermill": {
   "default_parameters": {},
   "duration": 11.428959,
   "end_time": "2022-07-03T02:58:17.120629",
   "environment_variables": {},
   "exception": null,
   "input_path": "__notebook__.ipynb",
   "output_path": "__notebook__.ipynb",
   "parameters": {},
   "start_time": "2022-07-03T02:58:05.691670",
   "version": "2.3.4"
  }
 },
 "nbformat": 4,
 "nbformat_minor": 5
}
